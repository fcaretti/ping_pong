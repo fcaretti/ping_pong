{
 "cells": [
  {
   "cell_type": "code",
   "execution_count": 1,
   "id": "30c00ea0",
   "metadata": {},
   "outputs": [],
   "source": [
    "import torch\n",
    "import numpy as np\n",
    "import pyro\n",
    "import pyro.distributions as dist\n",
    "from pyro.infer import MCMC, NUTS\n",
    "\n",
    "import pandas as pd\n",
    "from matplotlib import pyplot as plt\n",
    "import random\n",
    "import time\n",
    "import models\n",
    "import gdown\n",
    "\n",
    "from scipy.stats import nbinom,norm,truncnorm\n",
    "from scipy.integrate import trapezoid as trapz"
   ]
  },
  {
   "cell_type": "code",
   "execution_count": 2,
   "id": "5dfecdf4",
   "metadata": {},
   "outputs": [],
   "source": [
    "url = \"https://docs.google.com/spreadsheets/d/e/2PACX-1vTltw5xQVB_sSBCLiA5nzbiDc1srkInw5TDBWcYy50A-Yhr7zKMTgJUy0aoE1q0uCo5WUJSJSVhR_SY/pub?gid=0&single=true&output=csv\"\n",
    "df = pd.read_csv(url)"
   ]
  },
  {
   "cell_type": "code",
   "execution_count": 3,
   "id": "c0a6301a",
   "metadata": {},
   "outputs": [
    {
     "name": "stdout",
     "output_type": "stream",
     "text": [
      "   Winner   Loser  Points\n",
      "0    Fedo   Mauro       1\n",
      "1    Fedo   Idris       3\n",
      "2   Mauro   Idris       6\n",
      "3    Fedo   Idris       5\n",
      "4   Mauro   Idris       8\n",
      "5    Fedo   Mauro       5\n",
      "6   Mauro   Frago       7\n",
      "7   Mauro   Frago       7\n",
      "8   Frago   Mauro       6\n",
      "9   Frago   Idris       9\n",
      "10  Frago   Idris       9\n",
      "11  Frago   Idris      10\n",
      "12  Frago   Idris       8\n",
      "13  Mauro  Satvik       7\n",
      "14   Fedo   Idris       4\n",
      "15   Fedo   Idris       9\n"
     ]
    }
   ],
   "source": [
    "#file_path = 'results.ods'\n",
    "\n",
    "# Read the Excel file\n",
    "#df = pd.read_excel(file_path, engine=\"odf\")\n",
    "\n",
    "# Print the DataFrame\n",
    "print(df)\n",
    "\n",
    "winners=np.array(df['Winner'])\n",
    "losers=np.array(df['Loser'])\n",
    "loser_scores=np.array(df['Points'])\n",
    "names = pd.concat([df['Winner'], df['Loser']]).unique()\n",
    "ids = list(range(len(names)))\n",
    "dict_to_id = dict(zip(names,ids))\n",
    "dict_to_name=dict(zip(ids,names))\n",
    "winner_ids = np.array([dict_to_id[i] for i in winners])\n",
    "loser_ids = np.array([dict_to_id[i] for i in losers])"
   ]
  },
  {
   "cell_type": "code",
   "execution_count": 435,
   "id": "2a3e7aa1",
   "metadata": {},
   "outputs": [],
   "source": [
    "winner_ids=torch.Tensor(winner_ids).int()\n",
    "loser_ids=torch.Tensor(loser_ids).int()\n",
    "loser_scores=torch.Tensor(loser_scores).int()"
   ]
  },
  {
   "cell_type": "code",
   "execution_count": 436,
   "id": "ce89cfc8",
   "metadata": {},
   "outputs": [
    {
     "name": "stderr",
     "output_type": "stream",
     "text": [
      "Sample: 100%|██| 110/110 [00:39,  2.79it/s, step size=5.15e-03, acc. prob=0.519]\n"
     ]
    }
   ],
   "source": [
    "# Run inference using NUTS (No-U-Turn Sampler) in MCMC\n",
    "nuts_kernel = NUTS(models.pyro_model)\n",
    "mcmc_run = MCMC(nuts_kernel, num_samples=100, warmup_steps=10)\n",
    "mcmc_run.run(winner_ids, loser_ids, loser_scores)\n",
    "\n",
    "# Get posterior samples\n",
    "posterior_samples = mcmc_run.get_samples()\n",
    "\n",
    "\n"
   ]
  },
  {
   "cell_type": "code",
   "execution_count": 437,
   "id": "467b497c",
   "metadata": {},
   "outputs": [
    {
     "name": "stdout",
     "output_type": "stream",
     "text": [
      "Player 1: Fedo\n",
      "Posterior mean of strength: -1.5651113986968994\n",
      "Posterior std dev of strength: 0.7456702589988708\n",
      "\n",
      "Player 2: Mauro\n",
      "Posterior mean of strength: 1.172225832939148\n",
      "Posterior std dev of strength: 0.579407274723053\n",
      "\n",
      "Player 3: Frago\n",
      "Posterior mean of strength: 1.2006733417510986\n",
      "Posterior std dev of strength: 0.6641607284545898\n",
      "\n",
      "Player 4: Idris\n",
      "Posterior mean of strength: -0.7139475345611572\n",
      "Posterior std dev of strength: 0.3505500555038452\n",
      "\n",
      "Player 5: Satvik\n",
      "Posterior mean of strength: 0.8312307596206665\n",
      "Posterior std dev of strength: 0.48502063751220703\n",
      "\n"
     ]
    }
   ],
   "source": [
    "# Print the posterior mean and standard deviation of player strengths\n",
    "for i in range(len(ids)):\n",
    "    player = f'Player {i+1}: {dict_to_name[i]}'\n",
    "    print(player)\n",
    "    print(\"Posterior mean of strength:\", posterior_samples['strength'][:, i].mean().item())\n",
    "    print(\"Posterior std dev of strength:\", posterior_samples['strength'][:, i].std().item())\n",
    "    print()"
   ]
  },
  {
   "cell_type": "markdown",
   "id": "3d224f56",
   "metadata": {},
   "source": [
    "## Adding Gibbs sampling (or something similar)"
   ]
  },
  {
   "cell_type": "code",
   "execution_count": 6,
   "id": "e98549cd",
   "metadata": {},
   "outputs": [],
   "source": [
    "if isinstance(winner_ids, torch.Tensor):\n",
    "    winner_ids=winner_ids.numpy()\n",
    "    loser_ids=loser_ids.numpy()\n",
    "    loser_scores=loser_scores.numpy()"
   ]
  },
  {
   "cell_type": "markdown",
   "id": "b17998da",
   "metadata": {},
   "source": [
    "### Choice: option 1"
   ]
  },
  {
   "cell_type": "code",
   "execution_count": 4,
   "id": "c1909410",
   "metadata": {},
   "outputs": [],
   "source": [
    "l1=0.5\n",
    "epsilon=1e-6\n",
    "std=0.2\n",
    "\n",
    "def unnorm_product_function(l1,lambdas_wins, lambdas_losses, scores, std=0.2, epsilon=1e-6):\n",
    "    if l1<0 or l1>1:\n",
    "        return 0\n",
    "    else:\n",
    "        #p=np.concatenate(((l1+epsilon)/(lambdas_wins+l1+epsilon),(lambdas_losses+epsilon)/(lambdas_losses+l1+epsilon)))\n",
    "        p=np.concatenate(((l1+epsilon)/(lambdas_losses+l1+epsilon),(lambdas_wins+epsilon)/(lambdas_wins+l1+epsilon)))\n",
    "        func=np.prod(nbinom.pmf(11,scores,p))*norm.pdf(l1,0.5,std)\n",
    "        return func\n",
    "\n",
    "\n",
    "def slice_sampler(x_init=l1,custom_function=unnorm_product_function, n_samples=10):\n",
    "    x = x_init\n",
    "    samples = np.zeros(n_samples)\n",
    "    for i in range(n_samples):\n",
    "        # Draw a vertical line\n",
    "        y = np.random.uniform(0, custom_function(x))\n",
    "        # Create a horizontal “slice” (i.e., an interval)\n",
    "        x_left = x - 0.1\n",
    "        while y < custom_function(x_left):\n",
    "            x_left -= 0.1\n",
    "        x_right = x + 0.1\n",
    "        while y < custom_function(x_right):\n",
    "            x_right += 0.1\n",
    "        # Draw new sample\n",
    "        if x_left<0:\n",
    "            x_left=0.01\n",
    "        if x_right>1:\n",
    "            x_right=0.99\n",
    "        #print(x_left,x_right)\n",
    "        while True:\n",
    "            x_new = np.random.uniform(x_left, x_right)\n",
    "            if y < custom_function(x_new):\n",
    "                break\n",
    "            elif x_new > x:\n",
    "                x_right = x_new\n",
    "            elif x_new < x:\n",
    "                x_left = x_new\n",
    "            else:\n",
    "                raise Exception(\"Slice sampler shrank to zero!\")\n",
    "        x = x_new\n",
    "        samples[i] = x\n",
    "    return samples[-1]\n",
    "\n",
    "def init_strengths(n,std):\n",
    "    mean = 0.5\n",
    "    # replace with your value\n",
    "    lower, upper = 0, 1\n",
    "    # Because truncnorm takes its bounds in the standard Gaussian space, \n",
    "    # you should convert your bounds\n",
    "    lower_std, upper_std = (lower - mean) / std, (upper - mean) / std\n",
    "    # Create the truncated Gaussian distribution\n",
    "    truncated_gaussian = truncnorm(lower_std, upper_std, loc=mean, scale=std)\n",
    "    # Sample from the distribution\n",
    "    sample = truncated_gaussian.rvs(n)\n",
    "    return sample\n",
    "\n",
    "def simulate_match(p):\n",
    "    count_heads = np.random.binomial(11, p)\n",
    "    count_tails = 11-count_heads\n",
    "    while count_heads < 11 and count_tails < 11:\n",
    "        # draw a sample from a Bernoulli distribution\n",
    "        sample = np.random.binomial(1, p)\n",
    "        if sample == 1:\n",
    "            count_heads += 1\n",
    "        else:\n",
    "            count_tails += 1\n",
    "    if count_heads ==11:\n",
    "        return 1\n",
    "    else:\n",
    "        return 0\n",
    "\n",
    "class gibbs_model:\n",
    "    def __init__(self, winner_ids, loser_ids, loser_scores,prior_std=0.2):\n",
    "        #find the number of players\n",
    "        self.n_players=len(np.unique(np.concatenate((winner_ids,loser_ids))))\n",
    "        #initialize the strengths; you can also put a wider prior\n",
    "        self.strengths=init_strengths(self.n_players,prior_std)\n",
    "        self.winner_ids=winner_ids\n",
    "        self.loser_ids=loser_ids\n",
    "        self.loser_scores=loser_scores\n",
    "        self.posterior_samples=None\n",
    "        \n",
    "    def posterior_sampling(self,n_iterations=100, warmup=20):\n",
    "        strengths_time=[]\n",
    "        ids = list(range(self.n_players))\n",
    "        thermalized=False\n",
    "        for i in range(n_iterations):\n",
    "            print(\"\\r\" + \"Progress: [\" + \"#\" * i + \" \" * (n_iterations - i) + f\"] {int(100 * i / n_iterations)}%\", end=\"\")\n",
    "            if thermalized==False:\n",
    "                if i==warmup:\n",
    "                    thermalized=True\n",
    "            random.shuffle(ids)\n",
    "            for current_id in ids:\n",
    "                #print(current_id)\n",
    "                l1=self.strengths[current_id]\n",
    "                #print(l1)\n",
    "                #print(np.where(self.winner_ids == current_id))\n",
    "                lambdas_wins=self.strengths[self.loser_ids[np.where(self.winner_ids == current_id)]]\n",
    "                scores=self.loser_scores[np.where(self.winner_ids == current_id)]\n",
    "                lambdas_losses=self.strengths[self.winner_ids[np.where(self.loser_ids == current_id)]]\n",
    "                scores=np.concatenate((scores,self.loser_scores[np.where(self.loser_ids == current_id)]))\n",
    "                custom_function = lambda l1: unnorm_product_function(l1, lambdas_wins, lambdas_losses, scores, std, epsilon)\n",
    "                self.strengths[current_id] = slice_sampler(x_init=l1, custom_function=custom_function)\n",
    "                #self.strengths[current_id]=slice_sampler()\n",
    "            if thermalized:\n",
    "                strengths_time.append(self.strengths.copy())\n",
    "        self.posterior_samples=np.array(strengths_time)\n",
    "        \n",
    "    def predict_match(self, player_1_id, player_2_id, n_matches=1000, explicit=False):\n",
    "        player_1_wins=0\n",
    "        l1=np.random.choice(self.posterior_samples[:,player_1_id], size=n_matches, replace=True, p=None)\n",
    "        l2=np.random.choice(self.posterior_samples[:,player_2_id], size=n_matches, replace=True, p=None)\n",
    "        for match in range(n_matches):\n",
    "            player_1_wins+=simulate_match(l1[match]/(l1[match]+l2[match]))\n",
    "        ratio=player_1_wins/n_matches\n",
    "        if explicit:\n",
    "            print(f'Player 1 has {ratio*100}% probability of winning')\n",
    "        return ratio\n",
    "    \n",
    "    def print_table(self):\n",
    "        # Print the posterior mean and standard deviation of player strengths\n",
    "        mean=np.mean(self.posterior_samples,axis=0)\n",
    "        std=np.std(self.posterior_samples,axis=0)\n",
    "        for i in range(len(ids)):\n",
    "            player = f'Player {i+1}: {dict_to_name[i]}'\n",
    "            print(player)\n",
    "            print(\"Posterior mean of strength:\", mean[i])\n",
    "            print(\"Posterior std dev of strength:\", std[i])\n",
    "            print()\n",
    "            \n",
    "        for i in ids:\n",
    "            for j in ids[i+1:]:\n",
    "                print(f'{dict_to_name[i]} has {self.predict_match(i,j)}% of probability of winning against {dict_to_name[j]}')"
   ]
  },
  {
   "cell_type": "code",
   "execution_count": 5,
   "id": "b5dc7378",
   "metadata": {},
   "outputs": [],
   "source": [
    "g=gibbs_model(winner_ids, loser_ids, loser_scores)"
   ]
  },
  {
   "cell_type": "code",
   "execution_count": 6,
   "id": "eea525cf",
   "metadata": {},
   "outputs": [
    {
     "name": "stdout",
     "output_type": "stream",
     "text": [
      "Progress: [################################################################################################################################################################################################################################################################################################################################################################################################################################################################################################################### ] 99%"
     ]
    }
   ],
   "source": [
    "g.posterior_sampling(n_iterations=500, warmup=100)"
   ]
  },
  {
   "cell_type": "code",
   "execution_count": 10,
   "id": "07d1bfbd",
   "metadata": {},
   "outputs": [
    {
     "name": "stdout",
     "output_type": "stream",
     "text": [
      "Player 1: Fedo\n",
      "Posterior mean of strength: 0.8320186215077634\n",
      "Posterior std dev of strength: 0.10251444627445608\n",
      "\n",
      "Player 2: Mauro\n",
      "Posterior mean of strength: 0.7129986140566582\n",
      "Posterior std dev of strength: 0.11379314742392181\n",
      "\n",
      "Player 3: Frago\n",
      "Posterior mean of strength: 0.6142742026033647\n",
      "Posterior std dev of strength: 0.10826966948272507\n",
      "\n",
      "Player 4: Idris\n",
      "Posterior mean of strength: 0.47552939379559483\n",
      "Posterior std dev of strength: 0.08508386347745425\n",
      "\n",
      "Player 5: Satvik\n",
      "Posterior mean of strength: 0.5178458582935604\n",
      "Posterior std dev of strength: 0.15310752724200838\n",
      "\n",
      "Fedo has 0.651% of probability of winning against Mauro\n",
      "Fedo has 0.735% of probability of winning against Frago\n",
      "Fedo has 0.872% of probability of winning against Idris\n",
      "Fedo has 0.854% of probability of winning against Satvik\n",
      "Mauro has 0.607% of probability of winning against Frago\n",
      "Mauro has 0.804% of probability of winning against Idris\n",
      "Mauro has 0.744% of probability of winning against Satvik\n",
      "Frago has 0.696% of probability of winning against Idris\n",
      "Frago has 0.625% of probability of winning against Satvik\n",
      "Idris has 0.438% of probability of winning against Satvik\n"
     ]
    }
   ],
   "source": [
    "g.print_table()"
   ]
  },
  {
   "cell_type": "code",
   "execution_count": null,
   "id": "ec250485",
   "metadata": {},
   "outputs": [],
   "source": []
  }
 ],
 "metadata": {
  "kernelspec": {
   "display_name": "Python 3 (ipykernel)",
   "language": "python",
   "name": "python3"
  },
  "language_info": {
   "codemirror_mode": {
    "name": "ipython",
    "version": 3
   },
   "file_extension": ".py",
   "mimetype": "text/x-python",
   "name": "python",
   "nbconvert_exporter": "python",
   "pygments_lexer": "ipython3",
   "version": "3.9.13"
  }
 },
 "nbformat": 4,
 "nbformat_minor": 5
}
