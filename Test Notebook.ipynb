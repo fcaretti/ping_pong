{
 "cells": [
  {
   "cell_type": "code",
   "execution_count": 13,
   "id": "30c00ea0",
   "metadata": {},
   "outputs": [],
   "source": [
    "import torch\n",
    "import numpy as np\n",
    "import pyro\n",
    "import pyro.distributions as dist\n",
    "from pyro.infer import MCMC, NUTS\n",
    "\n",
    "import pandas as pd\n",
    "from matplotlib import pyplot as plt\n",
    "import random\n",
    "import utils as ut"
   ]
  },
  {
   "cell_type": "code",
   "execution_count": 8,
   "id": "5edd8528",
   "metadata": {},
   "outputs": [],
   "source": [
    "#create some fake players\n",
    "names=[\"Fedo\", \"Nour\", \"MaLong\", \"Mauro\", \"TimoBoll\", \"JanOveWaldner\"]\n",
    "with open('fake_players.txt', 'w') as f:\n",
    "    for name in names:\n",
    "        f.write(name)\n",
    "        f.write('\\n')\n",
    "IDs = list(range(1, len(names)+1))\n",
    "n_players=len(names)"
   ]
  },
  {
   "cell_type": "code",
   "execution_count": 9,
   "id": "da07b214",
   "metadata": {},
   "outputs": [],
   "source": [
    "#generate some fake scores\n",
    "n_games=50\n",
    "winners=[]\n",
    "losers=[]\n",
    "points=[]\n",
    "for i in range(n_games):\n",
    "    winner,loser=random.sample(names,2)\n",
    "    winners.append(winner)\n",
    "    losers.append(loser)\n",
    "    points.append(random.randrange(10))"
   ]
  },
  {
   "cell_type": "code",
   "execution_count": 11,
   "id": "2a3e7aa1",
   "metadata": {},
   "outputs": [],
   "source": [
    "winner_ids=torch.tensor([0,4,2,7,4,2,7,5,1,4,2,3,7,5,6,3])\n",
    "loser_ids=torch.tensor([1,2,3,5,3,6,5,3,2,1,4,6,3,2,4,5])\n",
    "loser_scores=torch.tensor([3,2,5,7,3,10,7,6,8,4,3,5,6,7,3,2])"
   ]
  },
  {
   "cell_type": "code",
   "execution_count": 14,
   "id": "ce89cfc8",
   "metadata": {},
   "outputs": [
    {
     "name": "stderr",
     "output_type": "stream",
     "text": [
      "Sample: 100%|██| 110/110 [03:39,  1.99s/it, step size=1.17e-04, acc. prob=0.410]\n"
     ]
    }
   ],
   "source": [
    "# Run inference using NUTS (No-U-Turn Sampler) in MCMC\n",
    "nuts_kernel = NUTS(model)\n",
    "mcmc_run = MCMC(nuts_kernel, num_samples=100, warmup_steps=10)\n",
    "mcmc_run.run(winner_ids, loser_ids, loser_scores)\n",
    "\n",
    "# Get posterior samples\n",
    "posterior_samples = mcmc_run.get_samples()\n",
    "\n",
    "\n"
   ]
  },
  {
   "cell_type": "code",
   "execution_count": 15,
   "id": "467b497c",
   "metadata": {},
   "outputs": [
    {
     "name": "stdout",
     "output_type": "stream",
     "text": [
      "Player 1\n",
      "Posterior mean of strength: -1.7637139558792114\n",
      "Posterior std dev of strength: 0.07239000499248505\n",
      "\n",
      "Player 2\n",
      "Posterior mean of strength: 1.139736533164978\n",
      "Posterior std dev of strength: 0.18123143911361694\n",
      "\n",
      "Player 3\n",
      "Posterior mean of strength: -1.519075870513916\n",
      "Posterior std dev of strength: 0.07126716524362564\n",
      "\n",
      "Player 4\n",
      "Posterior mean of strength: 0.5709871053695679\n",
      "Posterior std dev of strength: 0.053876399993896484\n",
      "\n",
      "Player 5\n",
      "Posterior mean of strength: 0.4991966187953949\n",
      "Posterior std dev of strength: 0.05990365520119667\n",
      "\n",
      "Player 6\n",
      "Posterior mean of strength: 0.3477221429347992\n",
      "Posterior std dev of strength: 0.06233220174908638\n",
      "\n",
      "Player 7\n",
      "Posterior mean of strength: -0.5613820552825928\n",
      "Posterior std dev of strength: 0.05161304399371147\n",
      "\n",
      "Player 8\n",
      "Posterior mean of strength: 0.517486572265625\n",
      "Posterior std dev of strength: 0.11349602788686752\n",
      "\n"
     ]
    }
   ],
   "source": [
    "# Print the posterior mean and standard deviation of player strengths\n",
    "for i in range(len(np.unique(winner_ids))):\n",
    "    player = \"Player {}\".format(i+1)\n",
    "    print(player)\n",
    "    print(\"Posterior mean of strength:\", posterior_samples['strength'][:, i].mean().item())\n",
    "    print(\"Posterior std dev of strength:\", posterior_samples['strength'][:, i].std().item())\n",
    "    print()"
   ]
  },
  {
   "cell_type": "code",
   "execution_count": null,
   "id": "01f01e02",
   "metadata": {},
   "outputs": [],
   "source": []
  }
 ],
 "metadata": {
  "kernelspec": {
   "display_name": "Python 3 (ipykernel)",
   "language": "python",
   "name": "python3"
  },
  "language_info": {
   "codemirror_mode": {
    "name": "ipython",
    "version": 3
   },
   "file_extension": ".py",
   "mimetype": "text/x-python",
   "name": "python",
   "nbconvert_exporter": "python",
   "pygments_lexer": "ipython3",
   "version": "3.9.13"
  }
 },
 "nbformat": 4,
 "nbformat_minor": 5
}
