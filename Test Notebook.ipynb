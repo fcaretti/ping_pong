{
 "cells": [
  {
   "cell_type": "code",
   "execution_count": 78,
   "id": "30c00ea0",
   "metadata": {},
   "outputs": [],
   "source": [
    "import torch\n",
    "import numpy as np\n",
    "import pyro\n",
    "import pyro.distributions as dist\n",
    "from pyro.infer import MCMC, NUTS\n",
    "\n",
    "import pandas as pd\n",
    "from matplotlib import pyplot as plt\n",
    "import random\n",
    "import models\n",
    "import gdown\n",
    "\n",
    "from scipy.stats import nbinom,norm\n",
    "from scipy.integrate import trapezoid as trapz"
   ]
  },
  {
   "cell_type": "code",
   "execution_count": 2,
   "id": "5dfecdf4",
   "metadata": {},
   "outputs": [],
   "source": [
    "url = \"https://docs.google.com/spreadsheets/d/e/2PACX-1vTltw5xQVB_sSBCLiA5nzbiDc1srkInw5TDBWcYy50A-Yhr7zKMTgJUy0aoE1q0uCo5WUJSJSVhR_SY/pub?gid=0&single=true&output=csv\"\n",
    "df = pd.read_csv(url)"
   ]
  },
  {
   "cell_type": "code",
   "execution_count": 3,
   "id": "c0a6301a",
   "metadata": {},
   "outputs": [
    {
     "name": "stdout",
     "output_type": "stream",
     "text": [
      "   Winner  Loser  Points\n",
      "0    Fedo  Mauro       1\n",
      "1    Fedo  Idris       3\n",
      "2   Mauro  Idris       6\n",
      "3    Fedo  Idris       5\n",
      "4   Mauro  Idris       8\n",
      "5    Fedo  Mauro       5\n",
      "6   Mauro  Frago       7\n",
      "7   Mauro  Frago       7\n",
      "8   Frago  Mauro       6\n",
      "9   Frago  Idris       9\n",
      "10  Frago  Idris       9\n",
      "11  Frago  Idris      10\n",
      "12  Frago  Idris       8\n"
     ]
    }
   ],
   "source": [
    "#file_path = 'results.ods'\n",
    "\n",
    "# Read the Excel file\n",
    "#df = pd.read_excel(file_path, engine=\"odf\")\n",
    "\n",
    "# Print the DataFrame\n",
    "print(df)\n",
    "\n",
    "winners=np.array(df['Winner'])\n",
    "losers=np.array(df['Loser'])\n",
    "loser_scores=np.array(df['Points'])\n",
    "names = pd.concat([df['Winner'], df['Loser']]).unique()\n",
    "ids = list(range(len(names)))\n",
    "dict_to_id = dict(zip(names,ids))\n",
    "dict_to_name=dict(zip(ids,names))\n",
    "winner_ids = [dict_to_id[i] for i in winners]\n",
    "loser_ids = [dict_to_id[i] for i in losers]"
   ]
  },
  {
   "cell_type": "code",
   "execution_count": 4,
   "id": "2a3e7aa1",
   "metadata": {},
   "outputs": [],
   "source": [
    "winner_ids=torch.Tensor(winner_ids).int()\n",
    "loser_ids=torch.Tensor(loser_ids).int()\n",
    "loser_scores=torch.Tensor(loser_scores).int()"
   ]
  },
  {
   "cell_type": "code",
   "execution_count": 5,
   "id": "ce89cfc8",
   "metadata": {},
   "outputs": [
    {
     "name": "stderr",
     "output_type": "stream",
     "text": [
      "Sample: 100%|██| 110/110 [02:47,  1.52s/it, step size=5.82e-05, acc. prob=0.974]\n"
     ]
    }
   ],
   "source": [
    "# Run inference using NUTS (No-U-Turn Sampler) in MCMC\n",
    "nuts_kernel = NUTS(models.pyro_model)\n",
    "mcmc_run = MCMC(nuts_kernel, num_samples=100, warmup_steps=10)\n",
    "mcmc_run.run(winner_ids, loser_ids, loser_scores)\n",
    "\n",
    "# Get posterior samples\n",
    "posterior_samples = mcmc_run.get_samples()\n",
    "\n",
    "\n"
   ]
  },
  {
   "cell_type": "code",
   "execution_count": 6,
   "id": "467b497c",
   "metadata": {},
   "outputs": [
    {
     "name": "stdout",
     "output_type": "stream",
     "text": [
      "Player 1: Fedo\n",
      "Posterior mean of strength: 2.726062059402466\n",
      "Posterior std dev of strength: 0.22691123187541962\n",
      "\n",
      "Player 2: Mauro\n",
      "Posterior mean of strength: -0.7610374689102173\n",
      "Posterior std dev of strength: 0.17586161196231842\n",
      "\n",
      "Player 3: Frago\n",
      "Posterior mean of strength: 0.5311148166656494\n",
      "Posterior std dev of strength: 0.10602498054504395\n",
      "\n",
      "Player 4: Idris\n",
      "Posterior mean of strength: 0.4968423545360565\n",
      "Posterior std dev of strength: 0.04768441617488861\n",
      "\n"
     ]
    }
   ],
   "source": [
    "# Print the posterior mean and standard deviation of player strengths\n",
    "for i in range(len(ids)):\n",
    "    player = f'Player {i+1}: {dict_to_name[i]}'\n",
    "    print(player)\n",
    "    print(\"Posterior mean of strength:\", posterior_samples['strength'][:, i].mean().item())\n",
    "    print(\"Posterior std dev of strength:\", posterior_samples['strength'][:, i].std().item())\n",
    "    print()"
   ]
  },
  {
   "cell_type": "markdown",
   "id": "c5f40970",
   "metadata": {},
   "source": [
    "## Adding Gibbs sampling (or something similar)"
   ]
  },
  {
   "cell_type": "code",
   "execution_count": 8,
   "id": "16f88fc9",
   "metadata": {},
   "outputs": [],
   "source": [
    "winner_ids=winner_ids.numpy()\n",
    "loser_ids=loser_ids.numpy()\n",
    "loser_scores=loser_scores.numpy()"
   ]
  },
  {
   "cell_type": "code",
   "execution_count": 11,
   "id": "e8eb292e",
   "metadata": {},
   "outputs": [
    {
     "name": "stdout",
     "output_type": "stream",
     "text": [
      "[0, 1, 2, 3]\n"
     ]
    }
   ],
   "source": [
    "print(ids)"
   ]
  },
  {
   "cell_type": "code",
   "execution_count": 85,
   "id": "9fdc1054",
   "metadata": {},
   "outputs": [],
   "source": [
    "'''def init_strength(nt):\n",
    "    \n",
    "    #init with prior\n",
    "    init_strengths=np.random.uniform(0,1,nt)\n",
    "    return init_strengths\n",
    "\n",
    "def unnorm_posterior(x, mu, sigma, l1,lopps,n=11):\n",
    "    #prior\n",
    "    gaussian = norm.pdf(l1, mu, sigma)\n",
    "    #likelihood\n",
    "    p=l1/lopps\n",
    "    negative_binomial = nbinom.pmf(x, n, p)\n",
    "    return gaussian * negative_binomial\n",
    "\n",
    "def eval_limits(strengths):\n",
    "    #function that returns the extremes for the integration\n",
    "    #these are given by the minimum and maximum among the current strength values\n",
    "    minim=np.amin(strengths)\n",
    "    maxim=np.amax(strengths)\n",
    "    diff=maxim-minim\n",
    "    return minim-3*diff, maxim+3*diff\n",
    "    \n",
    "\n",
    "def trap_integrator(n_steps=10):\n",
    "    l1 = np.linspace(0.05,0.95, n_steps)\n",
    "    p=(l1+epsilon)/(l1+lopps+2*epsilon)\n",
    "    pmf_values = nbinom.pmf(x, 11,p)\n",
    "    # use trapezoidal rule to approximate integral\n",
    "    integral = trapz(pmf_values, p)\n",
    "    return integral'''"
   ]
  },
  {
   "cell_type": "code",
   "execution_count": 215,
   "id": "f876aa66",
   "metadata": {},
   "outputs": [
    {
     "name": "stdout",
     "output_type": "stream",
     "text": [
      "[0.0870487  0.76039691 0.82454626 0.99754452]\n",
      "['Fedo' 'Mauro' 'Frago' 'Idris']\n"
     ]
    }
   ],
   "source": [
    "print(strengths)\n",
    "print(names)"
   ]
  },
  {
   "cell_type": "code",
   "execution_count": null,
   "id": "07eb8c8e",
   "metadata": {},
   "outputs": [],
   "source": [
    "print()"
   ]
  },
  {
   "cell_type": "code",
   "execution_count": 193,
   "id": "c367af71",
   "metadata": {},
   "outputs": [],
   "source": [
    "'''def trap_integrator(n_steps=n_steps):\n",
    "    l1 = np.linspace(0.05,0.95, n_steps)\n",
    "    # use trapezoidal rule to approximate integral\n",
    "    integral = trapz(product_function(l1), l1)\n",
    "    return integral\n",
    "def normalized_prod_function(l1):\n",
    "    return unnorm_prod_function(l1)/trap_integrator()'''"
   ]
  },
  {
   "cell_type": "markdown",
   "id": "c0fbb7bf",
   "metadata": {},
   "source": [
    "### Choice: option 1"
   ]
  },
  {
   "cell_type": "code",
   "execution_count": 236,
   "id": "9b234119",
   "metadata": {},
   "outputs": [],
   "source": [
    "def unnorm_product_function(l1):\n",
    "    if l1<0 or l1>1:\n",
    "        return 0\n",
    "    else:\n",
    "        #commented stuff was useful for integration\n",
    "        #l1=l1.reshape(len(l1),1)\n",
    "        #print((l1/(l1+lambdas_wins)).shape)\n",
    "        #print((lambdas_losses/(l1+lambdas_losses)).shape)\n",
    "        #p=np.concatenate((l1/(l1+lambdas_wins),lambdas_losses/(l1+lambdas_losses)),axis=1)\n",
    "        #print(p.shape)\n",
    "        p=np.concatenate((l1/(l1+lambdas_wins),lambdas_losses/(l1+lambdas_losses)))\n",
    "        #func=np.prod(nbinom.pmf(scores, 11,p),axis=1)\n",
    "        func=np.prod(nbinom.pmf(scores, 11,p))\n",
    "        #print(func)    \n",
    "        return func"
   ]
  },
  {
   "cell_type": "code",
   "execution_count": 237,
   "id": "014d297b",
   "metadata": {},
   "outputs": [],
   "source": [
    "def slice_sampler(x_init=l1,custom_function=unnorm_product_function, n_samples=10):\n",
    "    x = x_init\n",
    "    samples = np.zeros(n_samples)\n",
    "    for i in range(n_samples):\n",
    "        # Draw a vertical line\n",
    "        y = np.random.uniform(0, custom_function(x))\n",
    "        # Create a horizontal “slice” (i.e., an interval)\n",
    "        x_left = x - 1.\n",
    "        while y < custom_function(x_left):\n",
    "            x_left -= 1.\n",
    "        x_right = x + 1.\n",
    "        while y < custom_function(x_right):\n",
    "            x_right += 1.\n",
    "        # Draw new sample\n",
    "        while True:\n",
    "            x_new = np.random.uniform(x_left, x_right)\n",
    "            if y < custom_function(x_new):\n",
    "                break\n",
    "            elif x_new > x:\n",
    "                x_right = x_new\n",
    "            elif x_new < x:\n",
    "                x_left = x_new\n",
    "            else:\n",
    "                raise Exception(\"Slice sampler shrank to zero!\")\n",
    "        x = x_new\n",
    "        samples[i] = x\n",
    "    return samples[-1]"
   ]
  },
  {
   "cell_type": "code",
   "execution_count": 238,
   "id": "9c6cec4c",
   "metadata": {},
   "outputs": [],
   "source": [
    "iterations=30\n",
    "nt = len(ids)\n",
    "n_steps=10\n",
    "epsilon=0.001\n",
    "strengths=init_strength(nt)\n",
    "  "
   ]
  },
  {
   "cell_type": "code",
   "execution_count": 239,
   "id": "a30f2ae8",
   "metadata": {},
   "outputs": [
    {
     "name": "stdout",
     "output_type": "stream",
     "text": [
      "0\n"
     ]
    },
    {
     "ename": "Exception",
     "evalue": "Slice sampler shrank to zero!",
     "output_type": "error",
     "traceback": [
      "\u001b[0;31m---------------------------------------------------------------------------\u001b[0m",
      "\u001b[0;31mException\u001b[0m                                 Traceback (most recent call last)",
      "\u001b[0;32m/tmp/ipykernel_31317/1910584294.py\u001b[0m in \u001b[0;36m<module>\u001b[0;34m\u001b[0m\n\u001b[1;32m      8\u001b[0m         \u001b[0mlambdas_losses\u001b[0m\u001b[0;34m=\u001b[0m\u001b[0mstrengths\u001b[0m\u001b[0;34m[\u001b[0m\u001b[0mwinner_ids\u001b[0m\u001b[0;34m[\u001b[0m\u001b[0mnp\u001b[0m\u001b[0;34m.\u001b[0m\u001b[0mwhere\u001b[0m\u001b[0;34m(\u001b[0m\u001b[0mloser_ids\u001b[0m \u001b[0;34m==\u001b[0m \u001b[0mcurrent_id\u001b[0m\u001b[0;34m)\u001b[0m\u001b[0;34m]\u001b[0m\u001b[0;34m]\u001b[0m\u001b[0;34m\u001b[0m\u001b[0;34m\u001b[0m\u001b[0m\n\u001b[1;32m      9\u001b[0m         \u001b[0mscores\u001b[0m\u001b[0;34m=\u001b[0m\u001b[0mnp\u001b[0m\u001b[0;34m.\u001b[0m\u001b[0mconcatenate\u001b[0m\u001b[0;34m(\u001b[0m\u001b[0;34m(\u001b[0m\u001b[0mscores\u001b[0m\u001b[0;34m,\u001b[0m\u001b[0mloser_scores\u001b[0m\u001b[0;34m[\u001b[0m\u001b[0mnp\u001b[0m\u001b[0;34m.\u001b[0m\u001b[0mwhere\u001b[0m\u001b[0;34m(\u001b[0m\u001b[0mloser_ids\u001b[0m \u001b[0;34m==\u001b[0m \u001b[0mcurrent_id\u001b[0m\u001b[0;34m)\u001b[0m\u001b[0;34m]\u001b[0m\u001b[0;34m)\u001b[0m\u001b[0;34m)\u001b[0m\u001b[0;34m\u001b[0m\u001b[0;34m\u001b[0m\u001b[0m\n\u001b[0;32m---> 10\u001b[0;31m         \u001b[0mstrengths\u001b[0m\u001b[0;34m[\u001b[0m\u001b[0mcurrent_id\u001b[0m\u001b[0;34m]\u001b[0m\u001b[0;34m=\u001b[0m\u001b[0mslice_sampler\u001b[0m\u001b[0;34m(\u001b[0m\u001b[0;34m)\u001b[0m\u001b[0;34m\u001b[0m\u001b[0;34m\u001b[0m\u001b[0m\n\u001b[0m",
      "\u001b[0;32m/tmp/ipykernel_31317/3054768182.py\u001b[0m in \u001b[0;36mslice_sampler\u001b[0;34m(x_init, custom_function, n_samples)\u001b[0m\n\u001b[1;32m     22\u001b[0m                 \u001b[0mx_left\u001b[0m \u001b[0;34m=\u001b[0m \u001b[0mx_new\u001b[0m\u001b[0;34m\u001b[0m\u001b[0;34m\u001b[0m\u001b[0m\n\u001b[1;32m     23\u001b[0m             \u001b[0;32melse\u001b[0m\u001b[0;34m:\u001b[0m\u001b[0;34m\u001b[0m\u001b[0;34m\u001b[0m\u001b[0m\n\u001b[0;32m---> 24\u001b[0;31m                 \u001b[0;32mraise\u001b[0m \u001b[0mException\u001b[0m\u001b[0;34m(\u001b[0m\u001b[0;34m\"Slice sampler shrank to zero!\"\u001b[0m\u001b[0;34m)\u001b[0m\u001b[0;34m\u001b[0m\u001b[0;34m\u001b[0m\u001b[0m\n\u001b[0m\u001b[1;32m     25\u001b[0m         \u001b[0mx\u001b[0m \u001b[0;34m=\u001b[0m \u001b[0mx_new\u001b[0m\u001b[0;34m\u001b[0m\u001b[0;34m\u001b[0m\u001b[0m\n\u001b[1;32m     26\u001b[0m         \u001b[0msamples\u001b[0m\u001b[0;34m[\u001b[0m\u001b[0mi\u001b[0m\u001b[0;34m]\u001b[0m \u001b[0;34m=\u001b[0m \u001b[0mx\u001b[0m\u001b[0;34m\u001b[0m\u001b[0;34m\u001b[0m\u001b[0m\n",
      "\u001b[0;31mException\u001b[0m: Slice sampler shrank to zero!"
     ]
    }
   ],
   "source": [
    "for i in range(iterations):\n",
    "    random.shuffle(ids)\n",
    "    print(i)\n",
    "    for current_id in ids:\n",
    "        l1=strengths[current_id]\n",
    "        lambdas_wins=strengths[loser_ids[np.where(winner_ids == current_id)]]\n",
    "        scores=loser_scores[np.where(winner_ids == current_id)]\n",
    "        lambdas_losses=strengths[winner_ids[np.where(loser_ids == current_id)]]\n",
    "        scores=np.concatenate((scores,loser_scores[np.where(loser_ids == current_id)]))\n",
    "        strengths[current_id]=slice_sampler()"
   ]
  },
  {
   "cell_type": "code",
   "execution_count": 235,
   "id": "28632245",
   "metadata": {},
   "outputs": [
    {
     "data": {
      "text/plain": [
       "array([23.26738501, 11.87863302, 15.07578133, 11.30866744])"
      ]
     },
     "execution_count": 235,
     "metadata": {},
     "output_type": "execute_result"
    }
   ],
   "source": [
    "strengths"
   ]
  },
  {
   "cell_type": "code",
   "execution_count": null,
   "id": "6083d347",
   "metadata": {},
   "outputs": [],
   "source": []
  }
 ],
 "metadata": {
  "kernelspec": {
   "display_name": "Python 3 (ipykernel)",
   "language": "python",
   "name": "python3"
  },
  "language_info": {
   "codemirror_mode": {
    "name": "ipython",
    "version": 3
   },
   "file_extension": ".py",
   "mimetype": "text/x-python",
   "name": "python",
   "nbconvert_exporter": "python",
   "pygments_lexer": "ipython3",
   "version": "3.9.13"
  }
 },
 "nbformat": 4,
 "nbformat_minor": 5
}
