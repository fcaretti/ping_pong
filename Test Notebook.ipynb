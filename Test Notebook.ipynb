{
 "cells": [
  {
   "cell_type": "code",
   "execution_count": 1,
   "id": "30c00ea0",
   "metadata": {},
   "outputs": [],
   "source": [
    "import torch\n",
    "import numpy as np\n",
    "import pyro\n",
    "import pyro.distributions as dist\n",
    "from pyro.infer import MCMC, NUTS\n",
    "\n",
    "import pandas as pd\n",
    "from matplotlib import pyplot as plt\n",
    "import random\n",
    "import time\n",
    "import models\n",
    "import gdown\n",
    "\n",
    "from scipy.stats import nbinom,norm,truncnorm\n",
    "from scipy.integrate import trapezoid as trapz"
   ]
  },
  {
   "cell_type": "code",
   "execution_count": 2,
   "id": "5dfecdf4",
   "metadata": {},
   "outputs": [],
   "source": [
    "url = \"https://docs.google.com/spreadsheets/d/e/2PACX-1vTltw5xQVB_sSBCLiA5nzbiDc1srkInw5TDBWcYy50A-Yhr7zKMTgJUy0aoE1q0uCo5WUJSJSVhR_SY/pub?gid=0&single=true&output=csv\"\n",
    "df = pd.read_csv(url)"
   ]
  },
  {
   "cell_type": "code",
   "execution_count": 3,
   "id": "c0a6301a",
   "metadata": {},
   "outputs": [
    {
     "name": "stdout",
     "output_type": "stream",
     "text": [
      "   Winner   Loser  Points\n",
      "0    Fedo   Mauro       1\n",
      "1    Fedo   Idris       3\n",
      "2   Mauro   Idris       6\n",
      "3    Fedo   Idris       5\n",
      "4   Mauro   Idris       8\n",
      "5    Fedo   Mauro       5\n",
      "6   Mauro   Frago       7\n",
      "7   Mauro   Frago       7\n",
      "8   Frago   Mauro       6\n",
      "9   Frago   Idris       9\n",
      "10  Frago   Idris       9\n",
      "11  Frago   Idris      10\n",
      "12  Frago   Idris       8\n",
      "13  Mauro  Satvik       7\n",
      "14   Fedo   Idris       4\n",
      "15   Fedo   Idris       9\n",
      "16   Fedo  Satvik      10\n",
      "17   Fedo  Satvik       2\n",
      "18   Fedo  Satvik       1\n",
      "19   Fedo  Satvik       1\n"
     ]
    }
   ],
   "source": [
    "#file_path = 'results.ods'\n",
    "\n",
    "# Read the Excel file\n",
    "#df = pd.read_excel(file_path, engine=\"odf\")\n",
    "\n",
    "# Print the DataFrame\n",
    "print(df)\n",
    "\n",
    "winners=np.array(df['Winner'])\n",
    "losers=np.array(df['Loser'])\n",
    "loser_scores=np.array(df['Points'])\n",
    "names = pd.concat([df['Winner'], df['Loser']]).unique()\n",
    "ids = list(range(len(names)))\n",
    "dict_to_id = dict(zip(names,ids))\n",
    "dict_to_name=dict(zip(ids,names))\n",
    "winner_ids = np.array([dict_to_id[i] for i in winners])\n",
    "loser_ids = np.array([dict_to_id[i] for i in losers])"
   ]
  },
  {
   "cell_type": "code",
   "execution_count": 12,
   "id": "2a3e7aa1",
   "metadata": {},
   "outputs": [],
   "source": [
    "winner_ids=torch.Tensor(winner_ids).int()\n",
    "loser_ids=torch.Tensor(loser_ids).int()\n",
    "loser_scores=torch.Tensor(loser_scores).int()"
   ]
  },
  {
   "cell_type": "code",
   "execution_count": 13,
   "id": "ce89cfc8",
   "metadata": {},
   "outputs": [
    {
     "name": "stderr",
     "output_type": "stream",
     "text": [
      "Sample: 100%|██| 110/110 [00:01, 67.73it/s, step size=2.40e-01, acc. prob=0.319]\n"
     ]
    }
   ],
   "source": [
    "# Run inference using NUTS (No-U-Turn Sampler) in MCMC\n",
    "nuts_kernel = NUTS(models.pyro_model)\n",
    "mcmc_run = MCMC(nuts_kernel, num_samples=100, warmup_steps=10)\n",
    "mcmc_run.run(winner_ids, loser_ids, loser_scores)\n",
    "\n",
    "# Get posterior samples\n",
    "posterior_samples = mcmc_run.get_samples()\n",
    "\n",
    "\n"
   ]
  },
  {
   "cell_type": "code",
   "execution_count": 14,
   "id": "467b497c",
   "metadata": {},
   "outputs": [
    {
     "name": "stdout",
     "output_type": "stream",
     "text": [
      "Player 1: Fedo\n",
      "Posterior mean of strength: 2.2895824909210205\n",
      "Posterior std dev of strength: 0.4013243615627289\n",
      "\n",
      "Player 2: Mauro\n",
      "Posterior mean of strength: 0.9741412401199341\n",
      "Posterior std dev of strength: 0.7356550097465515\n",
      "\n",
      "Player 3: Frago\n",
      "Posterior mean of strength: 1.2298502922058105\n",
      "Posterior std dev of strength: 0.2668052911758423\n",
      "\n",
      "Player 4: Idris\n",
      "Posterior mean of strength: 1.0444647073745728\n",
      "Posterior std dev of strength: 0.2371239811182022\n",
      "\n",
      "Player 5: Satvik\n",
      "Posterior mean of strength: 0.8340847492218018\n",
      "Posterior std dev of strength: 0.3003476560115814\n",
      "\n"
     ]
    }
   ],
   "source": [
    "# Print the posterior mean and standard deviation of player strengths\n",
    "for i in range(len(ids)):\n",
    "    player = f'Player {i+1}: {dict_to_name[i]}'\n",
    "    print(player)\n",
    "    print(\"Posterior mean of strength:\", posterior_samples['strength'][:, i].mean().item())\n",
    "    print(\"Posterior std dev of strength:\", posterior_samples['strength'][:, i].std().item())\n",
    "    print()"
   ]
  },
  {
   "cell_type": "markdown",
   "id": "3d224f56",
   "metadata": {},
   "source": [
    "## Adding Gibbs sampling"
   ]
  },
  {
   "cell_type": "code",
   "execution_count": 15,
   "id": "e98549cd",
   "metadata": {},
   "outputs": [],
   "source": [
    "#just in case you run this model after the previous one\n",
    "if isinstance(winner_ids, torch.Tensor):\n",
    "    winner_ids=winner_ids.numpy()\n",
    "    loser_ids=loser_ids.numpy()\n",
    "    loser_scores=loser_scores.numpy()"
   ]
  },
  {
   "cell_type": "code",
   "execution_count": 4,
   "id": "b5dc7378",
   "metadata": {},
   "outputs": [],
   "source": [
    "g=models.gibbs_model(winner_ids, loser_ids, loser_scores,names=names)"
   ]
  },
  {
   "cell_type": "code",
   "execution_count": 5,
   "id": "eea525cf",
   "metadata": {},
   "outputs": [
    {
     "name": "stdout",
     "output_type": "stream",
     "text": [
      "Progress: [################################################# ] 98%"
     ]
    }
   ],
   "source": [
    "g.posterior_sampling(n_iterations=50, warmup=10)"
   ]
  },
  {
   "cell_type": "code",
   "execution_count": 6,
   "id": "019fc019",
   "metadata": {
    "scrolled": true
   },
   "outputs": [
    {
     "name": "stdout",
     "output_type": "stream",
     "text": [
      "Player 1\n",
      "Posterior mean of strength: 0.886335464638741\n",
      "Posterior std dev of strength: 0.08799094281178609\n",
      "\n",
      "Player 2\n",
      "Posterior mean of strength: 0.7075505877969136\n",
      "Posterior std dev of strength: 0.10585778442282497\n",
      "\n",
      "Player 3\n",
      "Posterior mean of strength: 0.6427014682357448\n",
      "Posterior std dev of strength: 0.12652024346292817\n",
      "\n",
      "Player 4\n",
      "Posterior mean of strength: 0.49967556170490257\n",
      "Posterior std dev of strength: 0.07929602751911267\n",
      "\n",
      "Player 5\n",
      "Posterior mean of strength: 0.350905408395462\n",
      "Posterior std dev of strength: 0.09104930285161758\n",
      "\n",
      "Player 1 has 70.6% of probability of winning against Player 2\n",
      "Player 1 has 76.1% of probability of winning against Player 3\n",
      "Player 1 has 89.5% of probability of winning against Player 4\n",
      "Player 1 has 97.6% of probability of winning against Player 5\n",
      "Player 2 has 60.3% of probability of winning against Player 3\n",
      "Player 2 has 77.4% of probability of winning against Player 4\n",
      "Player 2 has 92.60000000000001% of probability of winning against Player 5\n",
      "Player 3 has 68.30000000000001% of probability of winning against Player 4\n",
      "Player 3 has 87.1% of probability of winning against Player 5\n",
      "Player 4 has 76.8% of probability of winning against Player 5\n"
     ]
    }
   ],
   "source": [
    "g.print_table()"
   ]
  },
  {
   "cell_type": "code",
   "execution_count": null,
   "id": "ba8a1fd8",
   "metadata": {},
   "outputs": [],
   "source": []
  },
  {
   "cell_type": "code",
   "execution_count": null,
   "id": "f58148d9",
   "metadata": {},
   "outputs": [],
   "source": []
  },
  {
   "cell_type": "code",
   "execution_count": null,
   "id": "47364d4f",
   "metadata": {},
   "outputs": [],
   "source": []
  }
 ],
 "metadata": {
  "kernelspec": {
   "display_name": "Python 3 (ipykernel)",
   "language": "python",
   "name": "python3"
  },
  "language_info": {
   "codemirror_mode": {
    "name": "ipython",
    "version": 3
   },
   "file_extension": ".py",
   "mimetype": "text/x-python",
   "name": "python",
   "nbconvert_exporter": "python",
   "pygments_lexer": "ipython3",
   "version": "3.9.13"
  }
 },
 "nbformat": 4,
 "nbformat_minor": 5
}
