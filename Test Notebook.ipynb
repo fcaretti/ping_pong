{
 "cells": [
  {
   "cell_type": "code",
   "execution_count": 22,
   "id": "30c00ea0",
   "metadata": {},
   "outputs": [],
   "source": [
    "import torch\n",
    "import numpy as np\n",
    "import pyro\n",
    "import pyro.distributions as dist\n",
    "from pyro.infer import MCMC, NUTS\n",
    "\n",
    "import pandas as pd\n",
    "from matplotlib import pyplot as plt\n",
    "import random\n",
    "import time\n",
    "import models\n",
    "import gdown\n",
    "\n",
    "from scipy.stats import nbinom,norm,truncnorm\n",
    "from scipy.integrate import trapezoid as trapz"
   ]
  },
  {
   "cell_type": "code",
   "execution_count": 48,
   "id": "5dfecdf4",
   "metadata": {},
   "outputs": [],
   "source": [
    "url = \"https://docs.google.com/spreadsheets/d/e/2PACX-1vTltw5xQVB_sSBCLiA5nzbiDc1srkInw5TDBWcYy50A-Yhr7zKMTgJUy0aoE1q0uCo5WUJSJSVhR_SY/pub?gid=1190540286&single=true&output=csv\"\n",
    "df = pd.read_csv(url)"
   ]
  },
  {
   "cell_type": "code",
   "execution_count": 49,
   "id": "c0a6301a",
   "metadata": {},
   "outputs": [
    {
     "name": "stdout",
     "output_type": "stream",
     "text": [
      "    Chronological info Winner's name Loser's name  Loser's score\n",
      "0                  NaN          Fedo        Mauro              1\n",
      "1                  NaN          Fedo        Idris              3\n",
      "2                  NaN         Mauro        Idris              6\n",
      "3                  NaN          Fedo        Idris              5\n",
      "4                  NaN         Mauro        Idris              8\n",
      "5                  NaN          Fedo        Mauro              5\n",
      "6                  NaN         Mauro        Frago              7\n",
      "7                  NaN         Mauro        Frago              7\n",
      "8                  NaN         Frago        Mauro              6\n",
      "9                  NaN         Frago        Idris              9\n",
      "10                 NaN         Frago        Idris              9\n",
      "11                 NaN         Frago        Idris             10\n",
      "12                 NaN         Frago        Idris              8\n",
      "13                 NaN         Mauro       Satvik              7\n",
      "14                 NaN          Fedo        Idris              4\n",
      "15                 NaN          Fedo        Idris              9\n",
      "16                 NaN          Fedo       Satvik             10\n",
      "17                 NaN          Fedo       Satvik              2\n",
      "18                 NaN          Fedo       Satvik              1\n",
      "19                 NaN          Fedo       Satvik              1\n",
      "20                 NaN         Mauro        Frago              9\n",
      "21                 NaN          Fedo        André              7\n",
      "22                 NaN         Frago        André              9\n",
      "23                 NaN         Mauro     Rongrong              5\n",
      "24                 NaN          Fedo        Frago              4\n",
      "25                 NaN          Fedo     Rongrong              2\n",
      "26                 NaN          Fedo        Idris              5\n",
      "27                 NaN          Fedo         Nour              5\n",
      "28                 NaN         Idris         Nour              2\n",
      "29                 NaN          Nour        Idris             10\n",
      "30                 NaN          Fedo        Idris              5\n",
      "31                 NaN         Idris         Nour              5\n",
      "32                 NaN         Idris         Nour              5\n",
      "33                 NaN          Nour        Idris              8\n",
      "34                 NaN         Idris         Nour             10\n",
      "35                 NaN        Younes       Andrea              5\n",
      "36                 NaN         Idris       Younes              9\n",
      "37                 NaN        Younes         Moha              3\n",
      "38                 NaN        Younes        Armin              9\n",
      "39                 NaN          Fedo       Younes              3\n",
      "40                 NaN          Fedo        Armin              1\n",
      "41                 NaN          Fedo        Armin              1\n",
      "42                 NaN          Fedo         Ajay              6\n",
      "43                 NaN          Fedo         Ajay              6\n",
      "44                 NaN          Fedo         Nour              2\n",
      "45                 NaN        Andrea        Idris              9\n",
      "46                 NaN          Fedo       Andrea              4\n",
      "47                 NaN          Fedo        Idris              7\n",
      "48                 NaN          Fedo       Andrea             10\n"
     ]
    }
   ],
   "source": [
    "#file_path = 'results.ods'\n",
    "\n",
    "# Read the Excel file\n",
    "#df = pd.read_excel(file_path, engine=\"odf\")\n",
    "\n",
    "# Print the DataFrame\n",
    "print(df)\n",
    "\n",
    "winners=np.array(df['Winner\\'s name'])\n",
    "losers=np.array(df['Loser\\'s name'])\n",
    "loser_scores=np.array(df['Loser\\'s score'])\n",
    "names = pd.concat([df['Winner\\'s name'], df['Loser\\'s name']]).unique()\n",
    "ids = list(range(len(names)))\n",
    "dict_to_id = dict(zip(names,ids))\n",
    "dict_to_name=dict(zip(ids,names))\n",
    "winner_ids = np.array([dict_to_id[i] for i in winners])\n",
    "loser_ids = np.array([dict_to_id[i] for i in losers])"
   ]
  },
  {
   "cell_type": "code",
   "execution_count": 30,
   "id": "2a3e7aa1",
   "metadata": {},
   "outputs": [],
   "source": [
    "winner_ids=torch.Tensor(winner_ids).int()\n",
    "loser_ids=torch.Tensor(loser_ids).int()\n",
    "loser_scores=torch.Tensor(loser_scores).int()"
   ]
  },
  {
   "cell_type": "code",
   "execution_count": 31,
   "id": "ce89cfc8",
   "metadata": {},
   "outputs": [
    {
     "name": "stderr",
     "output_type": "stream",
     "text": [
      "Warmup:   5%|▏   | 5/110 [00:00,  9.85it/s, step size=4.57e-03, acc. prob=0.377]"
     ]
    },
    {
     "ename": "KeyboardInterrupt",
     "evalue": "",
     "output_type": "error",
     "traceback": [
      "\u001b[0;31m---------------------------------------------------------------------------\u001b[0m",
      "\u001b[0;31mKeyboardInterrupt\u001b[0m                         Traceback (most recent call last)",
      "\u001b[0;32m/tmp/ipykernel_17689/2352688876.py\u001b[0m in \u001b[0;36m<module>\u001b[0;34m\u001b[0m\n\u001b[1;32m      2\u001b[0m \u001b[0mnuts_kernel\u001b[0m \u001b[0;34m=\u001b[0m \u001b[0mNUTS\u001b[0m\u001b[0;34m(\u001b[0m\u001b[0mmodels\u001b[0m\u001b[0;34m.\u001b[0m\u001b[0mpyro_model\u001b[0m\u001b[0;34m)\u001b[0m\u001b[0;34m\u001b[0m\u001b[0;34m\u001b[0m\u001b[0m\n\u001b[1;32m      3\u001b[0m \u001b[0mmcmc_run\u001b[0m \u001b[0;34m=\u001b[0m \u001b[0mMCMC\u001b[0m\u001b[0;34m(\u001b[0m\u001b[0mnuts_kernel\u001b[0m\u001b[0;34m,\u001b[0m \u001b[0mnum_samples\u001b[0m\u001b[0;34m=\u001b[0m\u001b[0;36m100\u001b[0m\u001b[0;34m,\u001b[0m \u001b[0mwarmup_steps\u001b[0m\u001b[0;34m=\u001b[0m\u001b[0;36m10\u001b[0m\u001b[0;34m)\u001b[0m\u001b[0;34m\u001b[0m\u001b[0;34m\u001b[0m\u001b[0m\n\u001b[0;32m----> 4\u001b[0;31m \u001b[0mmcmc_run\u001b[0m\u001b[0;34m.\u001b[0m\u001b[0mrun\u001b[0m\u001b[0;34m(\u001b[0m\u001b[0mwinner_ids\u001b[0m\u001b[0;34m,\u001b[0m \u001b[0mloser_ids\u001b[0m\u001b[0;34m,\u001b[0m \u001b[0mloser_scores\u001b[0m\u001b[0;34m)\u001b[0m\u001b[0;34m\u001b[0m\u001b[0;34m\u001b[0m\u001b[0m\n\u001b[0m\u001b[1;32m      5\u001b[0m \u001b[0;34m\u001b[0m\u001b[0m\n\u001b[1;32m      6\u001b[0m \u001b[0;31m# Get posterior samples\u001b[0m\u001b[0;34m\u001b[0m\u001b[0;34m\u001b[0m\u001b[0m\n",
      "\u001b[0;32m~/anaconda3/lib/python3.9/site-packages/pyro/poutine/messenger.py\u001b[0m in \u001b[0;36m_context_wrap\u001b[0;34m(context, fn, *args, **kwargs)\u001b[0m\n\u001b[1;32m     10\u001b[0m \u001b[0;32mdef\u001b[0m \u001b[0m_context_wrap\u001b[0m\u001b[0;34m(\u001b[0m\u001b[0mcontext\u001b[0m\u001b[0;34m,\u001b[0m \u001b[0mfn\u001b[0m\u001b[0;34m,\u001b[0m \u001b[0;34m*\u001b[0m\u001b[0margs\u001b[0m\u001b[0;34m,\u001b[0m \u001b[0;34m**\u001b[0m\u001b[0mkwargs\u001b[0m\u001b[0;34m)\u001b[0m\u001b[0;34m:\u001b[0m\u001b[0;34m\u001b[0m\u001b[0;34m\u001b[0m\u001b[0m\n\u001b[1;32m     11\u001b[0m     \u001b[0;32mwith\u001b[0m \u001b[0mcontext\u001b[0m\u001b[0;34m:\u001b[0m\u001b[0;34m\u001b[0m\u001b[0;34m\u001b[0m\u001b[0m\n\u001b[0;32m---> 12\u001b[0;31m         \u001b[0;32mreturn\u001b[0m \u001b[0mfn\u001b[0m\u001b[0;34m(\u001b[0m\u001b[0;34m*\u001b[0m\u001b[0margs\u001b[0m\u001b[0;34m,\u001b[0m \u001b[0;34m**\u001b[0m\u001b[0mkwargs\u001b[0m\u001b[0;34m)\u001b[0m\u001b[0;34m\u001b[0m\u001b[0;34m\u001b[0m\u001b[0m\n\u001b[0m\u001b[1;32m     13\u001b[0m \u001b[0;34m\u001b[0m\u001b[0m\n\u001b[1;32m     14\u001b[0m \u001b[0;34m\u001b[0m\u001b[0m\n",
      "\u001b[0;32m~/anaconda3/lib/python3.9/site-packages/pyro/infer/mcmc/api.py\u001b[0m in \u001b[0;36mrun\u001b[0;34m(self, *args, **kwargs)\u001b[0m\n\u001b[1;32m    561\u001b[0m             \u001b[0;31m# requires_grad\", which happens with `jit_compile` under PyTorch 1.7\u001b[0m\u001b[0;34m\u001b[0m\u001b[0;34m\u001b[0m\u001b[0m\n\u001b[1;32m    562\u001b[0m             \u001b[0margs\u001b[0m \u001b[0;34m=\u001b[0m \u001b[0;34m[\u001b[0m\u001b[0marg\u001b[0m\u001b[0;34m.\u001b[0m\u001b[0mdetach\u001b[0m\u001b[0;34m(\u001b[0m\u001b[0;34m)\u001b[0m \u001b[0;32mif\u001b[0m \u001b[0mtorch\u001b[0m\u001b[0;34m.\u001b[0m\u001b[0mis_tensor\u001b[0m\u001b[0;34m(\u001b[0m\u001b[0marg\u001b[0m\u001b[0;34m)\u001b[0m \u001b[0;32melse\u001b[0m \u001b[0marg\u001b[0m \u001b[0;32mfor\u001b[0m \u001b[0marg\u001b[0m \u001b[0;32min\u001b[0m \u001b[0margs\u001b[0m\u001b[0;34m]\u001b[0m\u001b[0;34m\u001b[0m\u001b[0;34m\u001b[0m\u001b[0m\n\u001b[0;32m--> 563\u001b[0;31m             \u001b[0;32mfor\u001b[0m \u001b[0mx\u001b[0m\u001b[0;34m,\u001b[0m \u001b[0mchain_id\u001b[0m \u001b[0;32min\u001b[0m \u001b[0mself\u001b[0m\u001b[0;34m.\u001b[0m\u001b[0msampler\u001b[0m\u001b[0;34m.\u001b[0m\u001b[0mrun\u001b[0m\u001b[0;34m(\u001b[0m\u001b[0;34m*\u001b[0m\u001b[0margs\u001b[0m\u001b[0;34m,\u001b[0m \u001b[0;34m**\u001b[0m\u001b[0mkwargs\u001b[0m\u001b[0;34m)\u001b[0m\u001b[0;34m:\u001b[0m\u001b[0;34m\u001b[0m\u001b[0;34m\u001b[0m\u001b[0m\n\u001b[0m\u001b[1;32m    564\u001b[0m                 \u001b[0;32mif\u001b[0m \u001b[0mnum_samples\u001b[0m\u001b[0;34m[\u001b[0m\u001b[0mchain_id\u001b[0m\u001b[0;34m]\u001b[0m \u001b[0;34m==\u001b[0m \u001b[0;36m0\u001b[0m\u001b[0;34m:\u001b[0m\u001b[0;34m\u001b[0m\u001b[0;34m\u001b[0m\u001b[0m\n\u001b[1;32m    565\u001b[0m                     \u001b[0mnum_samples\u001b[0m\u001b[0;34m[\u001b[0m\u001b[0mchain_id\u001b[0m\u001b[0;34m]\u001b[0m \u001b[0;34m+=\u001b[0m \u001b[0;36m1\u001b[0m\u001b[0;34m\u001b[0m\u001b[0;34m\u001b[0m\u001b[0m\n",
      "\u001b[0;32m~/anaconda3/lib/python3.9/site-packages/pyro/infer/mcmc/api.py\u001b[0m in \u001b[0;36mrun\u001b[0;34m(self, *args, **kwargs)\u001b[0m\n\u001b[1;32m    221\u001b[0m             \u001b[0mlogger\u001b[0m \u001b[0;34m=\u001b[0m \u001b[0minitialize_logger\u001b[0m\u001b[0;34m(\u001b[0m\u001b[0mlogger\u001b[0m\u001b[0;34m,\u001b[0m \u001b[0;34m\"\"\u001b[0m\u001b[0;34m,\u001b[0m \u001b[0mprogress_bar\u001b[0m\u001b[0;34m)\u001b[0m\u001b[0;34m\u001b[0m\u001b[0;34m\u001b[0m\u001b[0m\n\u001b[1;32m    222\u001b[0m             \u001b[0mhook_w_logging\u001b[0m \u001b[0;34m=\u001b[0m \u001b[0m_add_logging_hook\u001b[0m\u001b[0;34m(\u001b[0m\u001b[0mlogger\u001b[0m\u001b[0;34m,\u001b[0m \u001b[0mprogress_bar\u001b[0m\u001b[0;34m,\u001b[0m \u001b[0mself\u001b[0m\u001b[0;34m.\u001b[0m\u001b[0mhook\u001b[0m\u001b[0;34m)\u001b[0m\u001b[0;34m\u001b[0m\u001b[0;34m\u001b[0m\u001b[0m\n\u001b[0;32m--> 223\u001b[0;31m             for sample in _gen_samples(\n\u001b[0m\u001b[1;32m    224\u001b[0m                 \u001b[0mself\u001b[0m\u001b[0;34m.\u001b[0m\u001b[0mkernel\u001b[0m\u001b[0;34m,\u001b[0m\u001b[0;34m\u001b[0m\u001b[0;34m\u001b[0m\u001b[0m\n\u001b[1;32m    225\u001b[0m                 \u001b[0mself\u001b[0m\u001b[0;34m.\u001b[0m\u001b[0mwarmup_steps\u001b[0m\u001b[0;34m,\u001b[0m\u001b[0;34m\u001b[0m\u001b[0;34m\u001b[0m\u001b[0m\n",
      "\u001b[0;32m~/anaconda3/lib/python3.9/site-packages/pyro/infer/mcmc/api.py\u001b[0m in \u001b[0;36m_gen_samples\u001b[0;34m(kernel, warmup_steps, num_samples, hook, chain_id, *args, **kwargs)\u001b[0m\n\u001b[1;32m    148\u001b[0m     \u001b[0;32myield\u001b[0m \u001b[0;34m{\u001b[0m\u001b[0mname\u001b[0m\u001b[0;34m:\u001b[0m \u001b[0mparams\u001b[0m\u001b[0;34m[\u001b[0m\u001b[0mname\u001b[0m\u001b[0;34m]\u001b[0m\u001b[0;34m.\u001b[0m\u001b[0mshape\u001b[0m \u001b[0;32mfor\u001b[0m \u001b[0mname\u001b[0m \u001b[0;32min\u001b[0m \u001b[0msave_params\u001b[0m\u001b[0;34m}\u001b[0m\u001b[0;34m\u001b[0m\u001b[0;34m\u001b[0m\u001b[0m\n\u001b[1;32m    149\u001b[0m     \u001b[0;32mfor\u001b[0m \u001b[0mi\u001b[0m \u001b[0;32min\u001b[0m \u001b[0mrange\u001b[0m\u001b[0;34m(\u001b[0m\u001b[0mwarmup_steps\u001b[0m\u001b[0;34m)\u001b[0m\u001b[0;34m:\u001b[0m\u001b[0;34m\u001b[0m\u001b[0;34m\u001b[0m\u001b[0m\n\u001b[0;32m--> 150\u001b[0;31m         \u001b[0mparams\u001b[0m \u001b[0;34m=\u001b[0m \u001b[0mkernel\u001b[0m\u001b[0;34m.\u001b[0m\u001b[0msample\u001b[0m\u001b[0;34m(\u001b[0m\u001b[0mparams\u001b[0m\u001b[0;34m)\u001b[0m\u001b[0;34m\u001b[0m\u001b[0;34m\u001b[0m\u001b[0m\n\u001b[0m\u001b[1;32m    151\u001b[0m         hook(\n\u001b[1;32m    152\u001b[0m             \u001b[0mkernel\u001b[0m\u001b[0;34m,\u001b[0m\u001b[0;34m\u001b[0m\u001b[0;34m\u001b[0m\u001b[0m\n",
      "\u001b[0;32m~/anaconda3/lib/python3.9/site-packages/pyro/infer/mcmc/nuts.py\u001b[0m in \u001b[0;36msample\u001b[0;34m(self, params)\u001b[0m\n\u001b[1;32m    435\u001b[0m                     \u001b[0mdirection\u001b[0m \u001b[0;34m==\u001b[0m \u001b[0;36m1\u001b[0m\u001b[0;34m\u001b[0m\u001b[0;34m\u001b[0m\u001b[0m\n\u001b[1;32m    436\u001b[0m                 ):  # go to the right, start from the right leaf of current tree\n\u001b[0;32m--> 437\u001b[0;31m                     new_tree = self._build_tree(\n\u001b[0m\u001b[1;32m    438\u001b[0m                         \u001b[0mz_right\u001b[0m\u001b[0;34m,\u001b[0m\u001b[0;34m\u001b[0m\u001b[0;34m\u001b[0m\u001b[0m\n\u001b[1;32m    439\u001b[0m                         \u001b[0mr_right\u001b[0m\u001b[0;34m,\u001b[0m\u001b[0;34m\u001b[0m\u001b[0;34m\u001b[0m\u001b[0m\n",
      "\u001b[0;32m~/anaconda3/lib/python3.9/site-packages/pyro/infer/mcmc/nuts.py\u001b[0m in \u001b[0;36m_build_tree\u001b[0;34m(self, z, r, z_grads, log_slice, direction, tree_depth, energy_current)\u001b[0m\n\u001b[1;32m    257\u001b[0m \u001b[0;34m\u001b[0m\u001b[0m\n\u001b[1;32m    258\u001b[0m         \u001b[0;31m# build the first half of tree\u001b[0m\u001b[0;34m\u001b[0m\u001b[0;34m\u001b[0m\u001b[0m\n\u001b[0;32m--> 259\u001b[0;31m         half_tree = self._build_tree(\n\u001b[0m\u001b[1;32m    260\u001b[0m             \u001b[0mz\u001b[0m\u001b[0;34m,\u001b[0m \u001b[0mr\u001b[0m\u001b[0;34m,\u001b[0m \u001b[0mz_grads\u001b[0m\u001b[0;34m,\u001b[0m \u001b[0mlog_slice\u001b[0m\u001b[0;34m,\u001b[0m \u001b[0mdirection\u001b[0m\u001b[0;34m,\u001b[0m \u001b[0mtree_depth\u001b[0m \u001b[0;34m-\u001b[0m \u001b[0;36m1\u001b[0m\u001b[0;34m,\u001b[0m \u001b[0menergy_current\u001b[0m\u001b[0;34m\u001b[0m\u001b[0;34m\u001b[0m\u001b[0m\n\u001b[1;32m    261\u001b[0m         )\n",
      "\u001b[0;32m~/anaconda3/lib/python3.9/site-packages/pyro/infer/mcmc/nuts.py\u001b[0m in \u001b[0;36m_build_tree\u001b[0;34m(self, z, r, z_grads, log_slice, direction, tree_depth, energy_current)\u001b[0m\n\u001b[1;32m    279\u001b[0m             \u001b[0mr\u001b[0m \u001b[0;34m=\u001b[0m \u001b[0mhalf_tree\u001b[0m\u001b[0;34m.\u001b[0m\u001b[0mr_left\u001b[0m\u001b[0;34m\u001b[0m\u001b[0;34m\u001b[0m\u001b[0m\n\u001b[1;32m    280\u001b[0m             \u001b[0mz_grads\u001b[0m \u001b[0;34m=\u001b[0m \u001b[0mhalf_tree\u001b[0m\u001b[0;34m.\u001b[0m\u001b[0mz_left_grads\u001b[0m\u001b[0;34m\u001b[0m\u001b[0;34m\u001b[0m\u001b[0m\n\u001b[0;32m--> 281\u001b[0;31m         other_half_tree = self._build_tree(\n\u001b[0m\u001b[1;32m    282\u001b[0m             \u001b[0mz\u001b[0m\u001b[0;34m,\u001b[0m \u001b[0mr\u001b[0m\u001b[0;34m,\u001b[0m \u001b[0mz_grads\u001b[0m\u001b[0;34m,\u001b[0m \u001b[0mlog_slice\u001b[0m\u001b[0;34m,\u001b[0m \u001b[0mdirection\u001b[0m\u001b[0;34m,\u001b[0m \u001b[0mtree_depth\u001b[0m \u001b[0;34m-\u001b[0m \u001b[0;36m1\u001b[0m\u001b[0;34m,\u001b[0m \u001b[0menergy_current\u001b[0m\u001b[0;34m\u001b[0m\u001b[0;34m\u001b[0m\u001b[0m\n\u001b[1;32m    283\u001b[0m         )\n",
      "\u001b[0;32m~/anaconda3/lib/python3.9/site-packages/pyro/infer/mcmc/nuts.py\u001b[0m in \u001b[0;36m_build_tree\u001b[0;34m(self, z, r, z_grads, log_slice, direction, tree_depth, energy_current)\u001b[0m\n\u001b[1;32m    257\u001b[0m \u001b[0;34m\u001b[0m\u001b[0m\n\u001b[1;32m    258\u001b[0m         \u001b[0;31m# build the first half of tree\u001b[0m\u001b[0;34m\u001b[0m\u001b[0;34m\u001b[0m\u001b[0m\n\u001b[0;32m--> 259\u001b[0;31m         half_tree = self._build_tree(\n\u001b[0m\u001b[1;32m    260\u001b[0m             \u001b[0mz\u001b[0m\u001b[0;34m,\u001b[0m \u001b[0mr\u001b[0m\u001b[0;34m,\u001b[0m \u001b[0mz_grads\u001b[0m\u001b[0;34m,\u001b[0m \u001b[0mlog_slice\u001b[0m\u001b[0;34m,\u001b[0m \u001b[0mdirection\u001b[0m\u001b[0;34m,\u001b[0m \u001b[0mtree_depth\u001b[0m \u001b[0;34m-\u001b[0m \u001b[0;36m1\u001b[0m\u001b[0;34m,\u001b[0m \u001b[0menergy_current\u001b[0m\u001b[0;34m\u001b[0m\u001b[0;34m\u001b[0m\u001b[0m\n\u001b[1;32m    261\u001b[0m         )\n",
      "\u001b[0;32m~/anaconda3/lib/python3.9/site-packages/pyro/infer/mcmc/nuts.py\u001b[0m in \u001b[0;36m_build_tree\u001b[0;34m(self, z, r, z_grads, log_slice, direction, tree_depth, energy_current)\u001b[0m\n\u001b[1;32m    279\u001b[0m             \u001b[0mr\u001b[0m \u001b[0;34m=\u001b[0m \u001b[0mhalf_tree\u001b[0m\u001b[0;34m.\u001b[0m\u001b[0mr_left\u001b[0m\u001b[0;34m\u001b[0m\u001b[0;34m\u001b[0m\u001b[0m\n\u001b[1;32m    280\u001b[0m             \u001b[0mz_grads\u001b[0m \u001b[0;34m=\u001b[0m \u001b[0mhalf_tree\u001b[0m\u001b[0;34m.\u001b[0m\u001b[0mz_left_grads\u001b[0m\u001b[0;34m\u001b[0m\u001b[0;34m\u001b[0m\u001b[0m\n\u001b[0;32m--> 281\u001b[0;31m         other_half_tree = self._build_tree(\n\u001b[0m\u001b[1;32m    282\u001b[0m             \u001b[0mz\u001b[0m\u001b[0;34m,\u001b[0m \u001b[0mr\u001b[0m\u001b[0;34m,\u001b[0m \u001b[0mz_grads\u001b[0m\u001b[0;34m,\u001b[0m \u001b[0mlog_slice\u001b[0m\u001b[0;34m,\u001b[0m \u001b[0mdirection\u001b[0m\u001b[0;34m,\u001b[0m \u001b[0mtree_depth\u001b[0m \u001b[0;34m-\u001b[0m \u001b[0;36m1\u001b[0m\u001b[0;34m,\u001b[0m \u001b[0menergy_current\u001b[0m\u001b[0;34m\u001b[0m\u001b[0;34m\u001b[0m\u001b[0m\n\u001b[1;32m    283\u001b[0m         )\n",
      "\u001b[0;32m~/anaconda3/lib/python3.9/site-packages/pyro/infer/mcmc/nuts.py\u001b[0m in \u001b[0;36m_build_tree\u001b[0;34m(self, z, r, z_grads, log_slice, direction, tree_depth, energy_current)\u001b[0m\n\u001b[1;32m    257\u001b[0m \u001b[0;34m\u001b[0m\u001b[0m\n\u001b[1;32m    258\u001b[0m         \u001b[0;31m# build the first half of tree\u001b[0m\u001b[0;34m\u001b[0m\u001b[0;34m\u001b[0m\u001b[0m\n\u001b[0;32m--> 259\u001b[0;31m         half_tree = self._build_tree(\n\u001b[0m\u001b[1;32m    260\u001b[0m             \u001b[0mz\u001b[0m\u001b[0;34m,\u001b[0m \u001b[0mr\u001b[0m\u001b[0;34m,\u001b[0m \u001b[0mz_grads\u001b[0m\u001b[0;34m,\u001b[0m \u001b[0mlog_slice\u001b[0m\u001b[0;34m,\u001b[0m \u001b[0mdirection\u001b[0m\u001b[0;34m,\u001b[0m \u001b[0mtree_depth\u001b[0m \u001b[0;34m-\u001b[0m \u001b[0;36m1\u001b[0m\u001b[0;34m,\u001b[0m \u001b[0menergy_current\u001b[0m\u001b[0;34m\u001b[0m\u001b[0;34m\u001b[0m\u001b[0m\n\u001b[1;32m    261\u001b[0m         )\n",
      "\u001b[0;32m~/anaconda3/lib/python3.9/site-packages/pyro/infer/mcmc/nuts.py\u001b[0m in \u001b[0;36m_build_tree\u001b[0;34m(self, z, r, z_grads, log_slice, direction, tree_depth, energy_current)\u001b[0m\n\u001b[1;32m    279\u001b[0m             \u001b[0mr\u001b[0m \u001b[0;34m=\u001b[0m \u001b[0mhalf_tree\u001b[0m\u001b[0;34m.\u001b[0m\u001b[0mr_left\u001b[0m\u001b[0;34m\u001b[0m\u001b[0;34m\u001b[0m\u001b[0m\n\u001b[1;32m    280\u001b[0m             \u001b[0mz_grads\u001b[0m \u001b[0;34m=\u001b[0m \u001b[0mhalf_tree\u001b[0m\u001b[0;34m.\u001b[0m\u001b[0mz_left_grads\u001b[0m\u001b[0;34m\u001b[0m\u001b[0;34m\u001b[0m\u001b[0m\n\u001b[0;32m--> 281\u001b[0;31m         other_half_tree = self._build_tree(\n\u001b[0m\u001b[1;32m    282\u001b[0m             \u001b[0mz\u001b[0m\u001b[0;34m,\u001b[0m \u001b[0mr\u001b[0m\u001b[0;34m,\u001b[0m \u001b[0mz_grads\u001b[0m\u001b[0;34m,\u001b[0m \u001b[0mlog_slice\u001b[0m\u001b[0;34m,\u001b[0m \u001b[0mdirection\u001b[0m\u001b[0;34m,\u001b[0m \u001b[0mtree_depth\u001b[0m \u001b[0;34m-\u001b[0m \u001b[0;36m1\u001b[0m\u001b[0;34m,\u001b[0m \u001b[0menergy_current\u001b[0m\u001b[0;34m\u001b[0m\u001b[0;34m\u001b[0m\u001b[0m\n\u001b[1;32m    283\u001b[0m         )\n",
      "\u001b[0;32m~/anaconda3/lib/python3.9/site-packages/pyro/infer/mcmc/nuts.py\u001b[0m in \u001b[0;36m_build_tree\u001b[0;34m(self, z, r, z_grads, log_slice, direction, tree_depth, energy_current)\u001b[0m\n\u001b[1;32m    279\u001b[0m             \u001b[0mr\u001b[0m \u001b[0;34m=\u001b[0m \u001b[0mhalf_tree\u001b[0m\u001b[0;34m.\u001b[0m\u001b[0mr_left\u001b[0m\u001b[0;34m\u001b[0m\u001b[0;34m\u001b[0m\u001b[0m\n\u001b[1;32m    280\u001b[0m             \u001b[0mz_grads\u001b[0m \u001b[0;34m=\u001b[0m \u001b[0mhalf_tree\u001b[0m\u001b[0;34m.\u001b[0m\u001b[0mz_left_grads\u001b[0m\u001b[0;34m\u001b[0m\u001b[0;34m\u001b[0m\u001b[0m\n\u001b[0;32m--> 281\u001b[0;31m         other_half_tree = self._build_tree(\n\u001b[0m\u001b[1;32m    282\u001b[0m             \u001b[0mz\u001b[0m\u001b[0;34m,\u001b[0m \u001b[0mr\u001b[0m\u001b[0;34m,\u001b[0m \u001b[0mz_grads\u001b[0m\u001b[0;34m,\u001b[0m \u001b[0mlog_slice\u001b[0m\u001b[0;34m,\u001b[0m \u001b[0mdirection\u001b[0m\u001b[0;34m,\u001b[0m \u001b[0mtree_depth\u001b[0m \u001b[0;34m-\u001b[0m \u001b[0;36m1\u001b[0m\u001b[0;34m,\u001b[0m \u001b[0menergy_current\u001b[0m\u001b[0;34m\u001b[0m\u001b[0;34m\u001b[0m\u001b[0m\n\u001b[1;32m    283\u001b[0m         )\n",
      "\u001b[0;32m~/anaconda3/lib/python3.9/site-packages/pyro/infer/mcmc/nuts.py\u001b[0m in \u001b[0;36m_build_tree\u001b[0;34m(self, z, r, z_grads, log_slice, direction, tree_depth, energy_current)\u001b[0m\n\u001b[1;32m    252\u001b[0m     ):\n\u001b[1;32m    253\u001b[0m         \u001b[0;32mif\u001b[0m \u001b[0mtree_depth\u001b[0m \u001b[0;34m==\u001b[0m \u001b[0;36m0\u001b[0m\u001b[0;34m:\u001b[0m\u001b[0;34m\u001b[0m\u001b[0;34m\u001b[0m\u001b[0m\n\u001b[0;32m--> 254\u001b[0;31m             return self._build_basetree(\n\u001b[0m\u001b[1;32m    255\u001b[0m                 \u001b[0mz\u001b[0m\u001b[0;34m,\u001b[0m \u001b[0mr\u001b[0m\u001b[0;34m,\u001b[0m \u001b[0mz_grads\u001b[0m\u001b[0;34m,\u001b[0m \u001b[0mlog_slice\u001b[0m\u001b[0;34m,\u001b[0m \u001b[0mdirection\u001b[0m\u001b[0;34m,\u001b[0m \u001b[0menergy_current\u001b[0m\u001b[0;34m\u001b[0m\u001b[0;34m\u001b[0m\u001b[0m\n\u001b[1;32m    256\u001b[0m             )\n",
      "\u001b[0;32m~/anaconda3/lib/python3.9/site-packages/pyro/infer/mcmc/nuts.py\u001b[0m in \u001b[0;36m_build_basetree\u001b[0;34m(self, z, r, z_grads, log_slice, direction, energy_current)\u001b[0m\n\u001b[1;32m    197\u001b[0m     \u001b[0;32mdef\u001b[0m \u001b[0m_build_basetree\u001b[0m\u001b[0;34m(\u001b[0m\u001b[0mself\u001b[0m\u001b[0;34m,\u001b[0m \u001b[0mz\u001b[0m\u001b[0;34m,\u001b[0m \u001b[0mr\u001b[0m\u001b[0;34m,\u001b[0m \u001b[0mz_grads\u001b[0m\u001b[0;34m,\u001b[0m \u001b[0mlog_slice\u001b[0m\u001b[0;34m,\u001b[0m \u001b[0mdirection\u001b[0m\u001b[0;34m,\u001b[0m \u001b[0menergy_current\u001b[0m\u001b[0;34m)\u001b[0m\u001b[0;34m:\u001b[0m\u001b[0;34m\u001b[0m\u001b[0;34m\u001b[0m\u001b[0m\n\u001b[1;32m    198\u001b[0m         \u001b[0mstep_size\u001b[0m \u001b[0;34m=\u001b[0m \u001b[0mself\u001b[0m\u001b[0;34m.\u001b[0m\u001b[0mstep_size\u001b[0m \u001b[0;32mif\u001b[0m \u001b[0mdirection\u001b[0m \u001b[0;34m==\u001b[0m \u001b[0;36m1\u001b[0m \u001b[0;32melse\u001b[0m \u001b[0;34m-\u001b[0m\u001b[0mself\u001b[0m\u001b[0;34m.\u001b[0m\u001b[0mstep_size\u001b[0m\u001b[0;34m\u001b[0m\u001b[0;34m\u001b[0m\u001b[0m\n\u001b[0;32m--> 199\u001b[0;31m         z_new, r_new, z_grads, potential_energy = velocity_verlet(\n\u001b[0m\u001b[1;32m    200\u001b[0m             \u001b[0mz\u001b[0m\u001b[0;34m,\u001b[0m\u001b[0;34m\u001b[0m\u001b[0;34m\u001b[0m\u001b[0m\n\u001b[1;32m    201\u001b[0m             \u001b[0mr\u001b[0m\u001b[0;34m,\u001b[0m\u001b[0;34m\u001b[0m\u001b[0;34m\u001b[0m\u001b[0m\n",
      "\u001b[0;32m~/anaconda3/lib/python3.9/site-packages/pyro/ops/integrator.py\u001b[0m in \u001b[0;36mvelocity_verlet\u001b[0;34m(z, r, potential_fn, kinetic_grad, step_size, num_steps, z_grads)\u001b[0m\n\u001b[1;32m     37\u001b[0m     \u001b[0mr_next\u001b[0m \u001b[0;34m=\u001b[0m \u001b[0mr\u001b[0m\u001b[0;34m.\u001b[0m\u001b[0mcopy\u001b[0m\u001b[0;34m(\u001b[0m\u001b[0;34m)\u001b[0m\u001b[0;34m\u001b[0m\u001b[0;34m\u001b[0m\u001b[0m\n\u001b[1;32m     38\u001b[0m     \u001b[0;32mfor\u001b[0m \u001b[0m_\u001b[0m \u001b[0;32min\u001b[0m \u001b[0mrange\u001b[0m\u001b[0;34m(\u001b[0m\u001b[0mnum_steps\u001b[0m\u001b[0;34m)\u001b[0m\u001b[0;34m:\u001b[0m\u001b[0;34m\u001b[0m\u001b[0;34m\u001b[0m\u001b[0m\n\u001b[0;32m---> 39\u001b[0;31m         z_next, r_next, z_grads, potential_energy = _single_step_verlet(\n\u001b[0m\u001b[1;32m     40\u001b[0m             \u001b[0mz_next\u001b[0m\u001b[0;34m,\u001b[0m \u001b[0mr_next\u001b[0m\u001b[0;34m,\u001b[0m \u001b[0mpotential_fn\u001b[0m\u001b[0;34m,\u001b[0m \u001b[0mkinetic_grad\u001b[0m\u001b[0;34m,\u001b[0m \u001b[0mstep_size\u001b[0m\u001b[0;34m,\u001b[0m \u001b[0mz_grads\u001b[0m\u001b[0;34m\u001b[0m\u001b[0;34m\u001b[0m\u001b[0m\n\u001b[1;32m     41\u001b[0m         )\n",
      "\u001b[0;32m~/anaconda3/lib/python3.9/site-packages/pyro/ops/integrator.py\u001b[0m in \u001b[0;36m_single_step_verlet\u001b[0;34m(z, r, potential_fn, kinetic_grad, step_size, z_grads)\u001b[0m\n\u001b[1;32m     59\u001b[0m         \u001b[0mz\u001b[0m\u001b[0;34m[\u001b[0m\u001b[0msite_name\u001b[0m\u001b[0;34m]\u001b[0m \u001b[0;34m=\u001b[0m \u001b[0mz\u001b[0m\u001b[0;34m[\u001b[0m\u001b[0msite_name\u001b[0m\u001b[0;34m]\u001b[0m \u001b[0;34m+\u001b[0m \u001b[0mstep_size\u001b[0m \u001b[0;34m*\u001b[0m \u001b[0mr_grads\u001b[0m\u001b[0;34m[\u001b[0m\u001b[0msite_name\u001b[0m\u001b[0;34m]\u001b[0m  \u001b[0;31m# z(n+1)\u001b[0m\u001b[0;34m\u001b[0m\u001b[0;34m\u001b[0m\u001b[0m\n\u001b[1;32m     60\u001b[0m \u001b[0;34m\u001b[0m\u001b[0m\n\u001b[0;32m---> 61\u001b[0;31m     \u001b[0mz_grads\u001b[0m\u001b[0;34m,\u001b[0m \u001b[0mpotential_energy\u001b[0m \u001b[0;34m=\u001b[0m \u001b[0mpotential_grad\u001b[0m\u001b[0;34m(\u001b[0m\u001b[0mpotential_fn\u001b[0m\u001b[0;34m,\u001b[0m \u001b[0mz\u001b[0m\u001b[0;34m)\u001b[0m\u001b[0;34m\u001b[0m\u001b[0;34m\u001b[0m\u001b[0m\n\u001b[0m\u001b[1;32m     62\u001b[0m     \u001b[0;32mfor\u001b[0m \u001b[0msite_name\u001b[0m \u001b[0;32min\u001b[0m \u001b[0mr\u001b[0m\u001b[0;34m:\u001b[0m\u001b[0;34m\u001b[0m\u001b[0;34m\u001b[0m\u001b[0m\n\u001b[1;32m     63\u001b[0m         \u001b[0mr\u001b[0m\u001b[0;34m[\u001b[0m\u001b[0msite_name\u001b[0m\u001b[0;34m]\u001b[0m \u001b[0;34m=\u001b[0m \u001b[0mr\u001b[0m\u001b[0;34m[\u001b[0m\u001b[0msite_name\u001b[0m\u001b[0;34m]\u001b[0m \u001b[0;34m+\u001b[0m \u001b[0;36m0.5\u001b[0m \u001b[0;34m*\u001b[0m \u001b[0mstep_size\u001b[0m \u001b[0;34m*\u001b[0m \u001b[0;34m(\u001b[0m\u001b[0;34m-\u001b[0m\u001b[0mz_grads\u001b[0m\u001b[0;34m[\u001b[0m\u001b[0msite_name\u001b[0m\u001b[0;34m]\u001b[0m\u001b[0;34m)\u001b[0m  \u001b[0;31m# r(n+1)\u001b[0m\u001b[0;34m\u001b[0m\u001b[0;34m\u001b[0m\u001b[0m\n",
      "\u001b[0;32m~/anaconda3/lib/python3.9/site-packages/pyro/ops/integrator.py\u001b[0m in \u001b[0;36mpotential_grad\u001b[0;34m(potential_fn, z)\u001b[0m\n\u001b[1;32m     81\u001b[0m         \u001b[0mnode\u001b[0m\u001b[0;34m.\u001b[0m\u001b[0mrequires_grad_\u001b[0m\u001b[0;34m(\u001b[0m\u001b[0;32mTrue\u001b[0m\u001b[0;34m)\u001b[0m\u001b[0;34m\u001b[0m\u001b[0;34m\u001b[0m\u001b[0m\n\u001b[1;32m     82\u001b[0m     \u001b[0;32mtry\u001b[0m\u001b[0;34m:\u001b[0m\u001b[0;34m\u001b[0m\u001b[0;34m\u001b[0m\u001b[0m\n\u001b[0;32m---> 83\u001b[0;31m         \u001b[0mpotential_energy\u001b[0m \u001b[0;34m=\u001b[0m \u001b[0mpotential_fn\u001b[0m\u001b[0;34m(\u001b[0m\u001b[0mz\u001b[0m\u001b[0;34m)\u001b[0m\u001b[0;34m\u001b[0m\u001b[0;34m\u001b[0m\u001b[0m\n\u001b[0m\u001b[1;32m     84\u001b[0m     \u001b[0;31m# handle exceptions as defined in the exception registry\u001b[0m\u001b[0;34m\u001b[0m\u001b[0;34m\u001b[0m\u001b[0m\n\u001b[1;32m     85\u001b[0m     \u001b[0;32mexcept\u001b[0m \u001b[0mException\u001b[0m \u001b[0;32mas\u001b[0m \u001b[0me\u001b[0m\u001b[0;34m:\u001b[0m\u001b[0;34m\u001b[0m\u001b[0;34m\u001b[0m\u001b[0m\n",
      "\u001b[0;32m~/anaconda3/lib/python3.9/site-packages/pyro/infer/mcmc/util.py\u001b[0m in \u001b[0;36m_potential_fn\u001b[0;34m(self, params)\u001b[0m\n\u001b[1;32m    279\u001b[0m             \u001b[0;34m*\u001b[0m\u001b[0mself\u001b[0m\u001b[0;34m.\u001b[0m\u001b[0mmodel_args\u001b[0m\u001b[0;34m,\u001b[0m \u001b[0;34m**\u001b[0m\u001b[0mself\u001b[0m\u001b[0;34m.\u001b[0m\u001b[0mmodel_kwargs\u001b[0m\u001b[0;34m\u001b[0m\u001b[0;34m\u001b[0m\u001b[0m\n\u001b[1;32m    280\u001b[0m         )\n\u001b[0;32m--> 281\u001b[0;31m         \u001b[0mlog_joint\u001b[0m \u001b[0;34m=\u001b[0m \u001b[0mself\u001b[0m\u001b[0;34m.\u001b[0m\u001b[0mtrace_prob_evaluator\u001b[0m\u001b[0;34m.\u001b[0m\u001b[0mlog_prob\u001b[0m\u001b[0;34m(\u001b[0m\u001b[0mmodel_trace\u001b[0m\u001b[0;34m)\u001b[0m\u001b[0;34m\u001b[0m\u001b[0;34m\u001b[0m\u001b[0m\n\u001b[0m\u001b[1;32m    282\u001b[0m         \u001b[0;32mfor\u001b[0m \u001b[0mname\u001b[0m\u001b[0;34m,\u001b[0m \u001b[0mt\u001b[0m \u001b[0;32min\u001b[0m \u001b[0mself\u001b[0m\u001b[0;34m.\u001b[0m\u001b[0mtransforms\u001b[0m\u001b[0;34m.\u001b[0m\u001b[0mitems\u001b[0m\u001b[0;34m(\u001b[0m\u001b[0;34m)\u001b[0m\u001b[0;34m:\u001b[0m\u001b[0;34m\u001b[0m\u001b[0;34m\u001b[0m\u001b[0m\n\u001b[1;32m    283\u001b[0m             log_joint = log_joint - torch.sum(\n",
      "\u001b[0;32m~/anaconda3/lib/python3.9/site-packages/pyro/infer/mcmc/util.py\u001b[0m in \u001b[0;36mlog_prob\u001b[0;34m(self, model_trace)\u001b[0m\n\u001b[1;32m    236\u001b[0m         \"\"\"\n\u001b[1;32m    237\u001b[0m         \u001b[0;32mif\u001b[0m \u001b[0;32mnot\u001b[0m \u001b[0mself\u001b[0m\u001b[0;34m.\u001b[0m\u001b[0mhas_enumerable_sites\u001b[0m\u001b[0;34m:\u001b[0m\u001b[0;34m\u001b[0m\u001b[0;34m\u001b[0m\u001b[0m\n\u001b[0;32m--> 238\u001b[0;31m             \u001b[0;32mreturn\u001b[0m \u001b[0mmodel_trace\u001b[0m\u001b[0;34m.\u001b[0m\u001b[0mlog_prob_sum\u001b[0m\u001b[0;34m(\u001b[0m\u001b[0;34m)\u001b[0m\u001b[0;34m\u001b[0m\u001b[0;34m\u001b[0m\u001b[0m\n\u001b[0m\u001b[1;32m    239\u001b[0m         \u001b[0mlog_probs\u001b[0m \u001b[0;34m=\u001b[0m \u001b[0mself\u001b[0m\u001b[0;34m.\u001b[0m\u001b[0m_get_log_factors\u001b[0m\u001b[0;34m(\u001b[0m\u001b[0mmodel_trace\u001b[0m\u001b[0;34m)\u001b[0m\u001b[0;34m\u001b[0m\u001b[0;34m\u001b[0m\u001b[0m\n\u001b[1;32m    240\u001b[0m         \u001b[0;32mwith\u001b[0m \u001b[0mshared_intermediates\u001b[0m\u001b[0;34m(\u001b[0m\u001b[0;34m)\u001b[0m \u001b[0;32mas\u001b[0m \u001b[0mcache\u001b[0m\u001b[0;34m:\u001b[0m\u001b[0;34m\u001b[0m\u001b[0;34m\u001b[0m\u001b[0m\n",
      "\u001b[0;32m~/anaconda3/lib/python3.9/site-packages/pyro/poutine/trace_struct.py\u001b[0m in \u001b[0;36mlog_prob_sum\u001b[0;34m(self, site_filter)\u001b[0m\n\u001b[1;32m    194\u001b[0m                 \u001b[0;32melse\u001b[0m\u001b[0;34m:\u001b[0m\u001b[0;34m\u001b[0m\u001b[0;34m\u001b[0m\u001b[0m\n\u001b[1;32m    195\u001b[0m                     \u001b[0;32mtry\u001b[0m\u001b[0;34m:\u001b[0m\u001b[0;34m\u001b[0m\u001b[0;34m\u001b[0m\u001b[0m\n\u001b[0;32m--> 196\u001b[0;31m                         log_p = site[\"fn\"].log_prob(\n\u001b[0m\u001b[1;32m    197\u001b[0m                             \u001b[0msite\u001b[0m\u001b[0;34m[\u001b[0m\u001b[0;34m\"value\"\u001b[0m\u001b[0;34m]\u001b[0m\u001b[0;34m,\u001b[0m \u001b[0;34m*\u001b[0m\u001b[0msite\u001b[0m\u001b[0;34m[\u001b[0m\u001b[0;34m\"args\"\u001b[0m\u001b[0;34m]\u001b[0m\u001b[0;34m,\u001b[0m \u001b[0;34m**\u001b[0m\u001b[0msite\u001b[0m\u001b[0;34m[\u001b[0m\u001b[0;34m\"kwargs\"\u001b[0m\u001b[0;34m]\u001b[0m\u001b[0;34m\u001b[0m\u001b[0;34m\u001b[0m\u001b[0m\n\u001b[1;32m    198\u001b[0m                         )\n",
      "\u001b[0;32m~/anaconda3/lib/python3.9/site-packages/torch/distributions/negative_binomial.py\u001b[0m in \u001b[0;36mlog_prob\u001b[0;34m(self, value)\u001b[0m\n\u001b[1;32m     98\u001b[0m \u001b[0;34m\u001b[0m\u001b[0m\n\u001b[1;32m     99\u001b[0m         log_unnormalized_prob = (self.total_count * F.logsigmoid(-self.logits) +\n\u001b[0;32m--> 100\u001b[0;31m                                  value * F.logsigmoid(self.logits))\n\u001b[0m\u001b[1;32m    101\u001b[0m \u001b[0;34m\u001b[0m\u001b[0m\n\u001b[1;32m    102\u001b[0m         log_normalization = (-torch.lgamma(self.total_count + value) + torch.lgamma(1. + value) +\n",
      "\u001b[0;31mKeyboardInterrupt\u001b[0m: "
     ]
    }
   ],
   "source": [
    "# Run inference using NUTS (No-U-Turn Sampler) in MCMC\n",
    "nuts_kernel = NUTS(models.pyro_model)\n",
    "mcmc_run = MCMC(nuts_kernel, num_samples=100, warmup_steps=10)\n",
    "mcmc_run.run(winner_ids, loser_ids, loser_scores)\n",
    "\n",
    "# Get posterior samples\n",
    "posterior_samples = mcmc_run.get_samples()\n",
    "\n",
    "\n"
   ]
  },
  {
   "cell_type": "code",
   "execution_count": null,
   "id": "467b497c",
   "metadata": {},
   "outputs": [],
   "source": [
    "# Print the posterior mean and standard deviation of player strengths\n",
    "for i in range(len(ids)):\n",
    "    player = f'Player {i+1}: {dict_to_name[i]}'\n",
    "    print(player)\n",
    "    print(\"Posterior mean of strength:\", posterior_samples['strength'][:, i].mean().item())\n",
    "    print(\"Posterior std dev of strength:\", posterior_samples['strength'][:, i].std().item())\n",
    "    print()"
   ]
  },
  {
   "cell_type": "markdown",
   "id": "3d224f56",
   "metadata": {},
   "source": [
    "## Adding Gibbs sampling"
   ]
  },
  {
   "cell_type": "code",
   "execution_count": 50,
   "id": "e98549cd",
   "metadata": {},
   "outputs": [],
   "source": [
    "#just in case you run this model after the previous one\n",
    "if isinstance(winner_ids, torch.Tensor):\n",
    "    winner_ids=winner_ids.numpy()\n",
    "    loser_ids=loser_ids.numpy()\n",
    "    loser_scores=loser_scores.numpy()"
   ]
  },
  {
   "cell_type": "code",
   "execution_count": 51,
   "id": "b5dc7378",
   "metadata": {},
   "outputs": [],
   "source": [
    "g=models.gibbs_model(winner_ids, loser_ids, loser_scores,names=names,prior_std=0.3)"
   ]
  },
  {
   "cell_type": "code",
   "execution_count": 52,
   "id": "eea525cf",
   "metadata": {},
   "outputs": [
    {
     "name": "stdout",
     "output_type": "stream",
     "text": [
      "Progress: [################################################################################################################################################################################################################################################################################################################################################################################################################################################################################################################### ] 99%"
     ]
    }
   ],
   "source": [
    "g.posterior_sampling(n_iterations=500, warmup=100)"
   ]
  },
  {
   "cell_type": "code",
   "execution_count": 53,
   "id": "019fc019",
   "metadata": {
    "scrolled": true
   },
   "outputs": [
    {
     "name": "stdout",
     "output_type": "stream",
     "text": [
      "Player 1: Fedo\n",
      "Posterior mean of strength: 0.9415634166345379\n",
      "Posterior std dev of strength: 0.04151418317011727\n",
      "\n",
      "Player 2: Mauro\n",
      "Posterior mean of strength: 0.802819268155459\n",
      "Posterior std dev of strength: 0.10809934303480677\n",
      "\n",
      "Player 3: Frago\n",
      "Posterior mean of strength: 0.7369261073256225\n",
      "Posterior std dev of strength: 0.10896872918353052\n",
      "\n",
      "Player 4: Idris\n",
      "Posterior mean of strength: 0.502482240495777\n",
      "Posterior std dev of strength: 0.06637978480888952\n",
      "\n",
      "Player 5: Nour\n",
      "Posterior mean of strength: 0.457727270427627\n",
      "Posterior std dev of strength: 0.08626135970827041\n",
      "\n",
      "Player 6: Younes\n",
      "Posterior mean of strength: 0.3861880383990237\n",
      "Posterior std dev of strength: 0.10776831078510857\n",
      "\n",
      "Player 7: Andrea\n",
      "Posterior mean of strength: 0.449819511951748\n",
      "Posterior std dev of strength: 0.11251715054177282\n",
      "\n",
      "Player 8: Satvik\n",
      "Posterior mean of strength: 0.3842688942235295\n",
      "Posterior std dev of strength: 0.09227277566527009\n",
      "\n",
      "Player 9: André\n",
      "Posterior mean of strength: 0.6074238710311392\n",
      "Posterior std dev of strength: 0.15805558683177454\n",
      "\n",
      "Player 10: Rongrong\n",
      "Posterior mean of strength: 0.37052007162275236\n",
      "Posterior std dev of strength: 0.14167658667154928\n",
      "\n",
      "Player 11: Moha\n",
      "Posterior mean of strength: 0.20389958365123562\n",
      "Posterior std dev of strength: 0.1265000557152726\n",
      "\n",
      "Player 12: Armin\n",
      "Posterior mean of strength: 0.2521814875459237\n",
      "Posterior std dev of strength: 0.09771389788240656\n",
      "\n",
      "Player 13: Ajay\n",
      "Posterior mean of strength: 0.5633270505482169\n",
      "Posterior std dev of strength: 0.1585179088386606\n",
      "\n",
      "Fedo has 62% of probability of winning against Mauro\n",
      "Fedo has 73% of probability of winning against Frago\n",
      "Fedo has 91% of probability of winning against Idris\n",
      "Fedo has 94% of probability of winning against Nour\n",
      "Fedo has 95% of probability of winning against Younes\n",
      "Fedo has 93% of probability of winning against Andrea\n",
      "Fedo has 96% of probability of winning against Satvik\n",
      "Fedo has 81% of probability of winning against André\n",
      "Fedo has 94% of probability of winning against Rongrong\n",
      "Fedo has 99% of probability of winning against Moha\n",
      "Fedo has 99% of probability of winning against Armin\n",
      "Fedo has 87% of probability of winning against Ajay\n",
      "Mauro has 60% of probability of winning against Frago\n",
      "Mauro has 84% of probability of winning against Idris\n",
      "Mauro has 86% of probability of winning against Nour\n",
      "Mauro has 91% of probability of winning against Younes\n",
      "Mauro has 85% of probability of winning against Andrea\n",
      "Mauro has 93% of probability of winning against Satvik\n",
      "Mauro has 69% of probability of winning against André\n",
      "Mauro has 90% of probability of winning against Rongrong\n",
      "Mauro has 98% of probability of winning against Moha\n",
      "Mauro has 97% of probability of winning against Armin\n",
      "Mauro has 74% of probability of winning against Ajay\n",
      "Frago has 78% of probability of winning against Idris\n",
      "Frago has 82% of probability of winning against Nour\n",
      "Frago has 89% of probability of winning against Younes\n",
      "Frago has 84% of probability of winning against Andrea\n",
      "Frago has 89% of probability of winning against Satvik\n",
      "Frago has 63% of probability of winning against André\n",
      "Frago has 90% of probability of winning against Rongrong\n",
      "Frago has 98% of probability of winning against Moha\n",
      "Frago has 97% of probability of winning against Armin\n",
      "Frago has 72% of probability of winning against Ajay\n",
      "Idris has 58% of probability of winning against Nour\n",
      "Idris has 68% of probability of winning against Younes\n",
      "Idris has 60% of probability of winning against Andrea\n",
      "Idris has 69% of probability of winning against Satvik\n",
      "Idris has 38% of probability of winning against André\n",
      "Idris has 71% of probability of winning against Rongrong\n",
      "Idris has 93% of probability of winning against Moha\n",
      "Idris has 89% of probability of winning against Armin\n",
      "Idris has 42% of probability of winning against Ajay\n",
      "Nour has 64% of probability of winning against Younes\n",
      "Nour has 52% of probability of winning against Andrea\n",
      "Nour has 62% of probability of winning against Satvik\n",
      "Nour has 31% of probability of winning against André\n",
      "Nour has 66% of probability of winning against Rongrong\n",
      "Nour has 88% of probability of winning against Moha\n",
      "Nour has 84% of probability of winning against Armin\n",
      "Nour has 36% of probability of winning against Ajay\n",
      "Younes has 39% of probability of winning against Andrea\n",
      "Younes has 48% of probability of winning against Satvik\n",
      "Younes has 20% of probability of winning against André\n",
      "Younes has 54% of probability of winning against Rongrong\n",
      "Younes has 83% of probability of winning against Moha\n",
      "Younes has 75% of probability of winning against Armin\n",
      "Younes has 26% of probability of winning against Ajay\n",
      "Andrea has 60% of probability of winning against Satvik\n",
      "Andrea has 29% of probability of winning against André\n",
      "Andrea has 66% of probability of winning against Rongrong\n",
      "Andrea has 88% of probability of winning against Moha\n",
      "Andrea has 85% of probability of winning against Armin\n",
      "Andrea has 34% of probability of winning against Ajay\n",
      "Satvik has 22% of probability of winning against André\n",
      "Satvik has 56% of probability of winning against Rongrong\n",
      "Satvik has 84% of probability of winning against Moha\n",
      "Satvik has 77% of probability of winning against Armin\n",
      "Satvik has 25% of probability of winning against Ajay\n",
      "André has 77% of probability of winning against Rongrong\n",
      "André has 93% of probability of winning against Moha\n",
      "André has 91% of probability of winning against Armin\n",
      "André has 53% of probability of winning against Ajay\n",
      "Rongrong has 78% of probability of winning against Moha\n",
      "Rongrong has 68% of probability of winning against Armin\n",
      "Rongrong has 24% of probability of winning against Ajay\n",
      "Moha has 36% of probability of winning against Armin\n",
      "Moha has 8% of probability of winning against Ajay\n",
      "Armin has 11% of probability of winning against Ajay\n"
     ]
    }
   ],
   "source": [
    "g.print_table()"
   ]
  },
  {
   "cell_type": "code",
   "execution_count": null,
   "id": "ba8a1fd8",
   "metadata": {},
   "outputs": [],
   "source": []
  },
  {
   "cell_type": "code",
   "execution_count": null,
   "id": "f58148d9",
   "metadata": {},
   "outputs": [],
   "source": []
  },
  {
   "cell_type": "code",
   "execution_count": null,
   "id": "47364d4f",
   "metadata": {},
   "outputs": [],
   "source": []
  }
 ],
 "metadata": {
  "kernelspec": {
   "display_name": "Python 3 (ipykernel)",
   "language": "python",
   "name": "python3"
  },
  "language_info": {
   "codemirror_mode": {
    "name": "ipython",
    "version": 3
   },
   "file_extension": ".py",
   "mimetype": "text/x-python",
   "name": "python",
   "nbconvert_exporter": "python",
   "pygments_lexer": "ipython3",
   "version": "3.9.13"
  }
 },
 "nbformat": 4,
 "nbformat_minor": 5
}
