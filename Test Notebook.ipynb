{
 "cells": [
  {
   "cell_type": "code",
   "execution_count": 5,
   "id": "30c00ea0",
   "metadata": {},
   "outputs": [],
   "source": [
    "import torch\n",
    "import numpy as np\n",
    "import pyro\n",
    "import pyro.distributions as dist\n",
    "from pyro.infer import MCMC, NUTS\n",
    "\n",
    "import pandas as pd\n",
    "from matplotlib import pyplot as plt\n",
    "import random\n",
    "import models\n",
    "import gdown"
   ]
  },
  {
   "cell_type": "code",
   "execution_count": 15,
   "id": "5dfecdf4",
   "metadata": {},
   "outputs": [],
   "source": [
    "url = \"https://docs.google.com/spreadsheets/d/e/2PACX-1vTltw5xQVB_sSBCLiA5nzbiDc1srkInw5TDBWcYy50A-Yhr7zKMTgJUy0aoE1q0uCo5WUJSJSVhR_SY/pub?gid=0&single=true&output=csv\"\n",
    "df = pd.read_csv(url)"
   ]
  },
  {
   "cell_type": "code",
   "execution_count": 16,
   "id": "c0a6301a",
   "metadata": {},
   "outputs": [
    {
     "name": "stdout",
     "output_type": "stream",
     "text": [
      "    Winner    Loser  Points\n",
      "0     Nour     Fedo       2\n",
      "1     Nour    Mauro       8\n",
      "2    Mauro  Ma Long       7\n",
      "3  Ma Long  Waldner       8\n",
      "4  Waldner  Ma Long       7\n",
      "5     Boll     Fedo       3\n",
      "6    Mauro     Boll       5\n",
      "7    Mauro     Nour      10\n",
      "8  Waldner     Boll       9\n",
      "9  Waldner     Fedo       5\n"
     ]
    }
   ],
   "source": [
    "#file_path = 'results.ods'\n",
    "\n",
    "# Read the Excel file\n",
    "#df = pd.read_excel(file_path, engine=\"odf\")\n",
    "\n",
    "# Print the DataFrame\n",
    "print(df)\n",
    "\n",
    "winners=np.array(df['Winner'])\n",
    "losers=df['Loser']\n",
    "loser_scores=df['Points']\n",
    "names = pd.concat([df['Winner'], df['Loser']]).unique()\n",
    "ids = list(range(len(names)))\n",
    "dict_to_id = dict(zip(names,ids))\n",
    "dict_to_name=dict(zip(ids,names))\n",
    "winner_ids = [dict_to_id[i] for i in winners]\n",
    "loser_ids = [dict_to_id[i] for i in losers]"
   ]
  },
  {
   "cell_type": "code",
   "execution_count": 17,
   "id": "2a3e7aa1",
   "metadata": {},
   "outputs": [],
   "source": [
    "winner_ids=torch.Tensor(winner_ids).int()\n",
    "loser_ids=torch.Tensor(loser_ids).int()\n",
    "loser_scores=torch.Tensor(loser_scores).int()"
   ]
  },
  {
   "cell_type": "code",
   "execution_count": 20,
   "id": "ce89cfc8",
   "metadata": {},
   "outputs": [
    {
     "name": "stderr",
     "output_type": "stream",
     "text": [
      "Sample: 100%|█| 1100/1100 [00:26, 41.25it/s, step size=2.33e-01, acc. prob=0.915\n"
     ]
    }
   ],
   "source": [
    "# Run inference using NUTS (No-U-Turn Sampler) in MCMC\n",
    "nuts_kernel = NUTS(models.pyro_model)\n",
    "mcmc_run = MCMC(nuts_kernel, num_samples=1000, warmup_steps=100)\n",
    "mcmc_run.run(winner_ids, loser_ids, loser_scores)\n",
    "\n",
    "# Get posterior samples\n",
    "posterior_samples = mcmc_run.get_samples()\n",
    "\n",
    "\n"
   ]
  },
  {
   "cell_type": "code",
   "execution_count": 21,
   "id": "467b497c",
   "metadata": {},
   "outputs": [
    {
     "name": "stdout",
     "output_type": "stream",
     "text": [
      "Player 1: Nour\n",
      "Posterior mean of strength: -1.0182446241378784\n",
      "Posterior std dev of strength: 0.39145851135253906\n",
      "\n",
      "Player 2: Mauro\n",
      "Posterior mean of strength: -0.9551647901535034\n",
      "Posterior std dev of strength: 0.3584935963153839\n",
      "\n",
      "Player 3: Ma Long\n",
      "Posterior mean of strength: -0.6248592734336853\n",
      "Posterior std dev of strength: 0.2524974048137665\n",
      "\n",
      "Player 4: Waldner\n",
      "Posterior mean of strength: -0.639363169670105\n",
      "Posterior std dev of strength: 0.2573464810848236\n",
      "\n",
      "Player 5: Boll\n",
      "Posterior mean of strength: -0.5731425285339355\n",
      "Posterior std dev of strength: 0.2498534917831421\n",
      "\n",
      "Player 6: Fedo\n",
      "Posterior mean of strength: -0.23513329029083252\n",
      "Posterior std dev of strength: 0.10877437889575958\n",
      "\n"
     ]
    }
   ],
   "source": [
    "# Print the posterior mean and standard deviation of player strengths\n",
    "for i in range(len(ids)):\n",
    "    player = f'Player {i+1}: {dict_to_name[i]}'\n",
    "    print(player)\n",
    "    print(\"Posterior mean of strength:\", posterior_samples['strength'][:, i].mean().item())\n",
    "    print(\"Posterior std dev of strength:\", posterior_samples['strength'][:, i].std().item())\n",
    "    print()"
   ]
  },
  {
   "cell_type": "code",
   "execution_count": null,
   "id": "01f01e02",
   "metadata": {},
   "outputs": [],
   "source": []
  }
 ],
 "metadata": {
  "kernelspec": {
   "display_name": "Python 3 (ipykernel)",
   "language": "python",
   "name": "python3"
  },
  "language_info": {
   "codemirror_mode": {
    "name": "ipython",
    "version": 3
   },
   "file_extension": ".py",
   "mimetype": "text/x-python",
   "name": "python",
   "nbconvert_exporter": "python",
   "pygments_lexer": "ipython3",
   "version": "3.9.13"
  }
 },
 "nbformat": 4,
 "nbformat_minor": 5
}
